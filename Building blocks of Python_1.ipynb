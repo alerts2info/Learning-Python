{
 "cells": [
  {
   "cell_type": "markdown",
   "metadata": {},
   "source": [
    "### 1. [Identifiers and Keywords](#identifier_keyword)\n",
    "\n",
    "### 2. [Integral Types](#integral_types)\n",
    "\n",
    "### 3. [Floating point types](#floating_types)\n",
    "\n",
    "### 4. [Strings](#strings)\n",
    "\n",
    "### 5. [Tuple](https://srinivasnarasegouda.com/courses/python/building-blocks-python/tuple/)\n",
    "\n",
    "### 6. [List](https://srinivasnarasegouda.com/courses/python/building-blocks-python/list/)\n",
    "\n",
    "### 7. [Sets](https://srinivasnarasegouda.com/courses/python/building-blocks-python/sets-in-python/)\n",
    "\n",
    "### 8. [Mapping types – Dictionary](https://srinivasnarasegouda.com/courses/python/building-blocks-python/mapping-types/)\n",
    "\n",
    "### 9. [Iterating and Copying collections](https://srinivasnarasegouda.com/courses/python/building-blocks-python/iterating-copying-collections/)"
   ]
  },
  {
   "cell_type": "markdown",
   "metadata": {},
   "source": [
    "## 1. Identifiers and Keywords<a id='identifier_keyword'></a>"
   ]
  },
  {
   "cell_type": "markdown",
   "metadata": {},
   "source": [
    "### __IDENTIFIERS__\n",
    "\n",
    "An identifier is a name given to entities like class, functions, methods, variables, etc. It helps to differentiate one entity from another.\n",
    "\n",
    "__Rules for writing identifiers__\n",
    "\n",
    "1. __Identifiers can be a combination of:__\n",
    "\n",
    "    1. Lowercase (a to z) \n",
    "\n",
    "    1. Uppercase (A to Z)\n",
    "\n",
    "    1. Digits (0 to 9) \n",
    "\n",
    "    1. An underscore_  \n",
    "    \n",
    "       Examples: myClass, var_1, print_this_to_screen.\n",
    "\n",
    "1. __An identifier cannot start with a digit:__\n",
    "\n",
    "    Example: 1variable is invalid, but variable1 is a valid\n",
    "\n",
    "1. __Keywords cannot be used as identifiers__\n",
    "\n",
    "1. __We cannot use special symbols like !, @, #, $, % etc. in our identifier__\n",
    "\n",
    "1. __An identifier can be of any length.__\n",
    "\n",
    "\n",
    "__Things to Remember__\n",
    "\n",
    "Python is a case-sensitive language. This means, __Variable__ and __variable__ are not the same.\n",
    "\n",
    "Always give the identifiers a name that makes sense. While c = 10 is a valid name, but writing count = 10 would make more sense, and it would be easier to figure out what it represents anyone look at the code. \n",
    "\n",
    "Multiple words can be used as an identifier with the help of an underscore, like this_is_a_long_variable.\n"
   ]
  },
  {
   "cell_type": "markdown",
   "metadata": {},
   "source": [
    "### __KEYWORDS__\n",
    "\n",
    "__Python Keywords:__ Keywords are the reserved words in Python.\n",
    "\n",
    "1. We cannot use a keyword as a variable name, function name or any other identifier. They are used to define the syntax and structure of the Python language.\n",
    "2. There are 35 keywords in Python 3.7. This number can vary slightly over the course of time.\n",
    "3. In Python, keywords are case sensitive.\n",
    "4. All the keywords except True, False and None are in lowercase and they must be written as they are. The list of all the keywords is given below.\n",
    "\n",
    "|   |   |   |  |  |\n",
    "| :- | -: | :-: | :-: | :-: |\n",
    "| __T__rue |__F__alse  | __N__one |import |class |\n",
    "| if |else  | elif |for |while |\n",
    "| try | except  |finally   | raise | return |\n",
    "| break |  continue | pass |def  | lambda |\n",
    "| from | with  | is  | in | not |\n",
    "|as |and  |  or | del  |  yield |\n",
    "|await  | asert  | async  |global  |nonlocal  |\n"
   ]
  },
  {
   "cell_type": "markdown",
   "metadata": {},
   "source": [
    "## 2. Integral Types<a id='integral_types'></a>"
   ]
  },
  {
   "cell_type": "markdown",
   "metadata": {},
   "source": [
    "Python interprets a sequence of decimal digits without any prefix to be a decimal number.\n",
    "\n",
    "| Prefix  | Interpretation  | Base  |  \n",
    "| :- | :- | :-: | \n",
    "| 0b (zero + lowercase letter 'b')  |  Binary |  2 |\n",
    "| 0B (zero + lowercase letter 'B')  | Binary  | 2  |\n",
    "| 0o (zero + lowercase letter 'o')  | Octal  | 8  |\n",
    "| 0O (zero + lowercase letter 'O')  | Octal  | 8  |\n",
    "| 0x (zero + lowercase letter 'x')  | Hexadecimal  | 16  |\n",
    "| 0X (zero + lowercase letter 'X')  | Hexadecimal  | 16  |"
   ]
  },
  {
   "cell_type": "markdown",
   "metadata": {},
   "source": [
    "## 3. Floating point types<a id='floating_types'></a>"
   ]
  },
  {
   "cell_type": "markdown",
   "metadata": {},
   "source": [
    "The float type in Python designates a floating-point number. Float values are specified with a decimal point. \n",
    "\n",
    "Optionally, the character e or E followed by a positive or negative integer may be appended to specify scientific notation:\n",
    "\n",
    "### Complex Numbers\n",
    "Complex numbers are specified as: __real part + (imaginary part) j__\n",
    "\n",
    "Example: 2+3j\n"
   ]
  },
  {
   "cell_type": "markdown",
   "metadata": {},
   "source": [
    "## 4. Strings<a id='strings'></a>"
   ]
  },
  {
   "cell_type": "markdown",
   "metadata": {},
   "source": [
    "Strings are sequences of character data. \n",
    "1. ‘within single quotes’ \n",
    "1. “within double quotes”\n",
    "\n",
    "A string in Python can contain as many characters as we wish. The only limit is our machine’s memory resources. A string can also be empty:\n",
    "\n",
    "Use the escape \\ sequence if you want to include a quote character as part of the string itself."
   ]
  },
  {
   "cell_type": "code",
   "execution_count": 1,
   "metadata": {},
   "outputs": [
    {
     "name": "stdout",
     "output_type": "stream",
     "text": [
      "It's my life\n"
     ]
    }
   ],
   "source": [
    "print('It\\'s my life')  "
   ]
  },
  {
   "cell_type": "code",
   "execution_count": 2,
   "metadata": {},
   "outputs": [
    {
     "name": "stdout",
     "output_type": "stream",
     "text": [
      "The \"Honey Cake\" is delicious\n"
     ]
    }
   ],
   "source": [
    "print(\"The \\\"Honey Cake\\\" is delicious\") "
   ]
  },
  {
   "cell_type": "markdown",
   "metadata": {},
   "source": [
    "The following codes will generate \n",
    "\n",
    "__SyntaxError: invalid syntax__ because the second quote symbol (after the letter 't', after the word 'The') will be considered as the closing quote for the first quote symbol. "
   ]
  },
  {
   "cell_type": "code",
   "execution_count": 3,
   "metadata": {},
   "outputs": [
    {
     "ename": "SyntaxError",
     "evalue": "invalid syntax (<ipython-input-3-1a27a8aa3045>, line 1)",
     "output_type": "error",
     "traceback": [
      "\u001b[1;36m  File \u001b[1;32m\"<ipython-input-3-1a27a8aa3045>\"\u001b[1;36m, line \u001b[1;32m1\u001b[0m\n\u001b[1;33m    print('It's my life')\u001b[0m\n\u001b[1;37m              ^\u001b[0m\n\u001b[1;31mSyntaxError\u001b[0m\u001b[1;31m:\u001b[0m invalid syntax\n"
     ]
    }
   ],
   "source": [
    "print('It's my life')"
   ]
  },
  {
   "cell_type": "code",
   "execution_count": 4,
   "metadata": {},
   "outputs": [
    {
     "ename": "SyntaxError",
     "evalue": "invalid syntax (<ipython-input-4-bab003f9ebc8>, line 1)",
     "output_type": "error",
     "traceback": [
      "\u001b[1;36m  File \u001b[1;32m\"<ipython-input-4-bab003f9ebc8>\"\u001b[1;36m, line \u001b[1;32m1\u001b[0m\n\u001b[1;33m    print(\"The \"Honey Cake\" is delicious\")\u001b[0m\n\u001b[1;37m                ^\u001b[0m\n\u001b[1;31mSyntaxError\u001b[0m\u001b[1;31m:\u001b[0m invalid syntax\n"
     ]
    }
   ],
   "source": [
    "print(\"The \"Honey Cake\" is delicious\") "
   ]
  },
  {
   "cell_type": "markdown",
   "metadata": {},
   "source": [
    "#### Using an escape  '\\\\' sequence to type a sentance in multiple lines which will be considered as a single line\n"
   ]
  },
  {
   "cell_type": "code",
   "execution_count": 5,
   "metadata": {},
   "outputs": [
    {
     "name": "stdout",
     "output_type": "stream",
     "text": [
      "a is an alphabet\n"
     ]
    }
   ],
   "source": [
    "print('a \\\n",
    "is an \\\n",
    "alphabet')"
   ]
  },
  {
   "cell_type": "markdown",
   "metadata": {},
   "source": [
    "#### Using an escape sequence '\\n' to go the next line"
   ]
  },
  {
   "cell_type": "code",
   "execution_count": 6,
   "metadata": {},
   "outputs": [
    {
     "name": "stdout",
     "output_type": "stream",
     "text": [
      "First Line\n",
      "Second Line\n",
      "Third Line\n"
     ]
    }
   ],
   "source": [
    "print('First Line\\nSecond Line\\nThird Line')"
   ]
  }
 ],
 "metadata": {
  "kernelspec": {
   "display_name": "Python 3",
   "language": "python",
   "name": "python3"
  },
  "language_info": {
   "codemirror_mode": {
    "name": "ipython",
    "version": 3
   },
   "file_extension": ".py",
   "mimetype": "text/x-python",
   "name": "python",
   "nbconvert_exporter": "python",
   "pygments_lexer": "ipython3",
   "version": "3.8.3"
  }
 },
 "nbformat": 4,
 "nbformat_minor": 4
}
