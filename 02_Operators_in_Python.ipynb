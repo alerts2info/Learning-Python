{
 "cells": [
  {
   "cell_type": "markdown",
   "metadata": {},
   "source": [
    "# Table of Contents\n",
    "\n",
    "## 1. [Arithmatic Operators](#arithmatic_operators)\n",
    "\n",
    "\n",
    "## 2. [Assignment Operators](#assignment_operators)\n",
    "\n",
    "## 3. [Relational Operators](#relational_operators)\n",
    "\n",
    "## 4. [Bitwise Operators](#bitwise_operators)\n",
    "\n",
    "## 5. [Logical Operators](#logical_operators)\n",
    "\n",
    "## 6. [Membership Operators](#membership_operators)\n",
    "\n",
    "## 7. [Identity Operators](#identity_operators)\n",
    "\n",
    "## 8. [Operator Precedence](#operator_precedence)"
   ]
  },
  {
   "cell_type": "markdown",
   "metadata": {},
   "source": [
    "# 1. Arithmatic operators<a id='arithmatic_operators'></a>\n",
    "Arithmatic operators are used to perform the basic arithmatic operations. \n",
    "\n",
    "| __Operator__ |__Operation__  |\n",
    "| :- | :- | \n",
    "| + |Addition  | \n",
    "|- |Subtraction|\n",
    "| * | Multiplication  | \n",
    "| / | Division |\n",
    "| % | Modulus |\n",
    "| ** | Exponent |\n",
    "| // | Floor division |\n",
    "\n"
   ]
  },
  {
   "cell_type": "code",
   "execution_count": 1,
   "metadata": {},
   "outputs": [
    {
     "name": "stdout",
     "output_type": "stream",
     "text": [
      "Addition  30\n",
      "Subtraction  10\n",
      "Multiplication  200\n",
      "Division  1.5\n",
      "Modulus  8\n",
      "Floor division  1\n"
     ]
    }
   ],
   "source": [
    "a=20\n",
    "b=10\n",
    "c=12\n",
    "d=15\n",
    "\n",
    "print('Addition ',a+b)\n",
    "print('Subtraction ',a-b)\n",
    "print('Multiplication ', a*b)\n",
    "print('Division ', d/b)\n",
    "print('Modulus ', a%c)\n",
    "print('Floor division ', d//b)\n",
    "\n",
    "del(a,b,c,d) # deleting the variables"
   ]
  },
  {
   "cell_type": "markdown",
   "metadata": {},
   "source": [
    "# 2. Assignment Operators<a id='assignment_operators'></a>\n",
    "\n",
    "Python support the following assignment operators.\n",
    "\n",
    "| __Operator__ |__Description__  |\n",
    "| :- | :- | \n",
    "| = | Assigns values from right side operands to the left side operand  | \n",
    "|+= |It adds right operand to the left operand and assign the result to left operand|\n",
    "| -= | It subtracts right operand from the left operand and assign the result to left  | \n",
    "| * = | It multiplies right operand with the left operand and assign the result to left operand. |\n",
    "| /= | It divides left operand with the right operand and assign the result to left |\n",
    "| %= | It takes modulus using two operands and assign the result to left operand |\n",
    "|** =| Performs exponential (power) calculation on operators and assign value to the left operand |\n",
    "| //= | It performs floor division on operators and assign value to the left operand |"
   ]
  },
  {
   "cell_type": "code",
   "execution_count": 2,
   "metadata": {},
   "outputs": [
    {
     "name": "stdout",
     "output_type": "stream",
     "text": [
      "a=  20 \n",
      "b=  10 \n",
      "c=  12 \n",
      "d=  15\n",
      "The value of a and b after a+=b is \n",
      "a =  30\n",
      "b =  10\n",
      "The value of a and b after a-=b is \n",
      "a =  20\n",
      "b =  10\n",
      "The value of a and b after a*=b is \n",
      "a =  200\n",
      "b =  10\n",
      "The value of a and b after a/=b is \n",
      "a =  20.0\n",
      "b =  10\n",
      "The value of c and b after c %= b is \n",
      "c =  2\n",
      "b =  10\n",
      "The value of d and b after d %= b is \n",
      "d =  1\n",
      "b =  10\n"
     ]
    }
   ],
   "source": [
    "a=20\n",
    "b=10\n",
    "c=12\n",
    "d=15\n",
    "print(\"a= \", a, \"\\nb= \",b , \"\\nc= \", c, \"\\nd= \",d)\n",
    "\n",
    "a+=b\n",
    "print(\"The value of a and b after a+=b is \")\n",
    "print(\"a = \", a)\n",
    "print(\"b = \", b)\n",
    "\n",
    "a-=b\n",
    "print(\"The value of a and b after a-=b is \")\n",
    "print(\"a = \", a)\n",
    "print(\"b = \", b)\n",
    "\n",
    "a*=b\n",
    "print(\"The value of a and b after a*=b is \")\n",
    "print(\"a = \", a)\n",
    "print(\"b = \", b)\n",
    "\n",
    "a/=b\n",
    "print(\"The value of a and b after a/=b is \")\n",
    "print(\"a = \", a)\n",
    "print(\"b = \", b)\n",
    "\n",
    "c%=b\n",
    "print(\"The value of c and b after c %= b is \")\n",
    "print(\"c = \", c)\n",
    "print(\"b = \", b)\n",
    "\n",
    "d//=b\n",
    "print(\"The value of d and b after d %= b is \")\n",
    "print(\"d = \", d)\n",
    "print(\"b = \", b)\n",
    "\n",
    "del(a,b,c,d) # deleting the variables"
   ]
  },
  {
   "cell_type": "markdown",
   "metadata": {},
   "source": [
    "# 3. Relational Operators<a id='relational_operators'></a>\n",
    "\n",
    "Relational operators compare the values on either side of the operator to decide the relation\n",
    "\n",
    "| __Operator__ |__Description__  |\n",
    "| :- | :- | \n",
    "| == |Returns True only if both operands are equal  | \n",
    "|!= |Returns True if both operands are not equal|\n",
    "| > | The condition becomes true if left side operand is bigger than the right side operand  | \n",
    "| >= | The condition becomes true if left side operand is bigger than or equal to the right side operand |\n",
    "| < | The condition becomes true if left side operand is smaller than the right side operand |\n",
    "| <= | The condition becomes true if left side operand is smaller than or equal to the right side operand |\n"
   ]
  },
  {
   "cell_type": "code",
   "execution_count": 3,
   "metadata": {},
   "outputs": [
    {
     "name": "stdout",
     "output_type": "stream",
     "text": [
      "left_var1 == right_var1 is  True\n",
      "left_var1 == right_var2 is  False\n",
      "left_var1 != right_var2 is  True\n",
      "left_var1 > right_var2 is  True\n",
      "left_var1 >= right_var1 is  True\n",
      "left_var1 < right_var2 is  False\n",
      "left_var1 <= right_var1 is  True\n"
     ]
    }
   ],
   "source": [
    "left_var1=100\n",
    "left_var2=15\n",
    "right_var1=100\n",
    "right_var2=10\n",
    "\n",
    "print('left_var1 == right_var1 is ', left_var1==right_var1)\n",
    "print('left_var1 == right_var2 is ', left_var1==right_var2)\n",
    "\n",
    "print('left_var1 != right_var2 is ', left_var1!=right_var2)\n",
    "\n",
    "print('left_var1 > right_var2 is ', left_var1 > right_var2)\n",
    "print('left_var1 >= right_var1 is ', left_var1 >= right_var1)\n",
    "\n",
    "print('left_var1 < right_var2 is ', left_var1 < right_var2)\n",
    "print('left_var1 <= right_var1 is ', left_var1 <= right_var1)\n",
    "\n",
    "del(left_var1,left_var2, right_var1, right_var2 )  # deleting the variables"
   ]
  },
  {
   "cell_type": "markdown",
   "metadata": {},
   "source": [
    "# 4. Bitwise Operators<a id='bitwise_operators'></a>\n",
    "\n",
    "Bitwise operator works on bits and perform bit by bit operation.\n",
    "\n",
    "| Operator  | Operation  | Description  |  \n",
    "| :-: | :- | :- | \n",
    "| &  |  Binary AND |  Operator copies a bit to the result if it exists in both operands |\n",
    "| \\|  | Binary OR  | It copies a bit if it exists in either operand  |\n",
    "| ^  | Binary XOR  | It copies the bit if it is set in one operand but not both  |\n",
    "| ~  | Binary Ones Complement  | It is unary and has the effect of flipping bits.  |\n",
    "| <<  | Binary Left Shift  | The left operand's value is moved left by the number of bits specified by the right operand |\n",
    "| >>  | Binary Right Shift  | The left operand's value is moved right by the number of bits specified by the right operand|"
   ]
  },
  {
   "cell_type": "markdown",
   "metadata": {},
   "source": [
    "10 in binary is 00001010\n",
    "\n",
    " 4 in binary is 00000100\n",
    " \n",
    "a & b is \n",
    "\n",
    "    00001010\n",
    "    \n",
    "    00000100\n",
    "===============\n",
    "\n",
    "    00000000"
   ]
  },
  {
   "cell_type": "code",
   "execution_count": 4,
   "metadata": {},
   "outputs": [
    {
     "name": "stdout",
     "output_type": "stream",
     "text": [
      "a & b is  0\n",
      "a ^ b is  14\n",
      "~a is  -11\n",
      "a << 1 is  20\n",
      "a >> 1 is  5\n"
     ]
    }
   ],
   "source": [
    "a=10 # in binary system, the decimal no 10 is written as 00001010\n",
    "b=4 #  in binary system, the decimal no 4 is written as 00000100\n",
    "print(\"a & b is \",a&b)       # 00001010 & 00000100 is 00000000\n",
    "print(\"a ^ b is \",a^b)       # 00001010 ^ 00000100 is 00001110 which is 14 in decimal number system\n",
    "print(\"~a is \",~a)           # if a= 00001010 then ~a= 11110101 which is -11\n",
    "print(\"a << 1 is \",a<<1)     # 00001010 <<1 is 00010100 which is 20 in decimal number system\n",
    "print(\"a >> 1 is \",a >> 1)   # 00001010 >> 1 is 00000101  which is 5 in decimal number system\n",
    "\n",
    "del(a,b) # deleting the variables"
   ]
  },
  {
   "cell_type": "markdown",
   "metadata": {},
   "source": [
    "# 5. Logical Operators<a id='logical_operators'></a>\n",
    "\n",
    "| Operator  | Operation  | Description  |  \n",
    "| :-: | :- | :- | \n",
    "| and  |  Logical AND |  If both the operands are true then condition becomes true |\n",
    "| or  | Logical OR  | If any of the operands are true then condition becomes true  |\n",
    "| not  | Logical NOT  | Used to reverse the logical state of its operand  |"
   ]
  },
  {
   "cell_type": "code",
   "execution_count": 5,
   "metadata": {},
   "outputs": [
    {
     "name": "stdout",
     "output_type": "stream",
     "text": [
      "True\n",
      "False\n",
      "True\n",
      "False\n",
      "True\n"
     ]
    }
   ],
   "source": [
    "a=20\n",
    "b=10\n",
    "c=12\n",
    "d=15\n",
    "print((a>b) and (d>c))\n",
    "print((a>b) and (c>d))\n",
    "print((a>b) or (c>d))\n",
    "print(not(a>b))\n",
    "print(not(b>a))\n",
    "\n",
    "del(a,b,c,d) # deleting the variables"
   ]
  },
  {
   "cell_type": "markdown",
   "metadata": {},
   "source": [
    "# 6. Membership Operators<a id='membership_operators'></a>\n",
    "\n",
    "Python's membership operators test for membership in a sequence, such as strings, lists, tuples.\n",
    "\n",
    "| __Operator__ |__Description__  |\n",
    "| :- | :- | \n",
    "| in | Evaluate to true if the variables on either side of the operator point to the same object and false otherwise  | \n",
    "| not in |Evaluates to true if it does not find a variable in the specified sequence and false otherwise |\n"
   ]
  },
  {
   "cell_type": "code",
   "execution_count": 6,
   "metadata": {},
   "outputs": [
    {
     "name": "stdout",
     "output_type": "stream",
     "text": [
      "True\n",
      "False\n",
      "True\n",
      "False\n"
     ]
    }
   ],
   "source": [
    "str=\"Hello world\"\n",
    "print('H' in str) # Returns True because H is in str\n",
    "print('A' in str) # Returns False because A is not in str\n",
    "print('A' not in str) # Returns True because A is not in str\n",
    "print('e' not in str) # Returns False because we are checking 'e' is not in str but e is in str so it will be False\n",
    "\n",
    "del(str) # deleting the variable str"
   ]
  },
  {
   "cell_type": "markdown",
   "metadata": {},
   "source": [
    "# 7. Identity Operators<a id='identity_operators'></a>\n",
    "\n",
    "Identity operators compare the memory locations of two objects.\n",
    "\n",
    "| __Operator__ |__Description__  |\n",
    "| :- | :- | \n",
    "| is | Evaluate to true if the variables on either side of the operator point to the same object and false otherwise  | \n",
    "| is not |Evaluates to false if the variable on either side of the operator point to the same object and true otherwise |\n"
   ]
  },
  {
   "cell_type": "code",
   "execution_count": 7,
   "metadata": {},
   "outputs": [
    {
     "name": "stdout",
     "output_type": "stream",
     "text": [
      "True\n",
      "False\n",
      "False\n",
      "True\n"
     ]
    }
   ],
   "source": [
    "a=10\n",
    "b=10\n",
    "c=5\n",
    "print(a is b)\n",
    "print(a is c)\n",
    "print(a is not b)\n",
    "print(a is not c)\n",
    "\n",
    "del(a,b,c) # deleting the variables"
   ]
  },
  {
   "cell_type": "markdown",
   "metadata": {},
   "source": [
    "# 8. Operator Precedence<a id='operator_precedence'></a>\n",
    "\n",
    "\n",
    "\n",
    "| __Operator__ |__Description__  |\n",
    "| :- | :- | \n",
    "| ( ) | Parentheses |\n",
    "| ** | Exponentiation  | \n",
    "| ~ , + , -  | Complement, Unary plus and minus|\n",
    "| * ,  / , % , //  | Multiply, Divide, Modulus, Floor division |\n",
    "| + , - | Addition, Subtraction|\n",
    "|>> , << | Right and left bitwise shift |\n",
    "| & | Bitwise AND|\n",
    "| ^ , \\| | Bitwise exclusive OR, regular OR |\n",
    "|<= , <> , >= | Comparision operators|\n",
    "|<>, == , != | Equality operators|\n",
    "| = , %= , /= , //= , -= , += , * = ,  ** = | Assignment operators|\n",
    "|is , is not | Identity operator|\n",
    "| in , not in | Membership operators |\n",
    "| not, or, and | Logical operators|\n"
   ]
  },
  {
   "cell_type": "code",
   "execution_count": 8,
   "metadata": {},
   "outputs": [
    {
     "data": {
      "text/plain": [
       "27.0"
      ]
     },
     "execution_count": 8,
     "metadata": {},
     "output_type": "execute_result"
    }
   ],
   "source": [
    "(2+3)**2+8/4"
   ]
  },
  {
   "cell_type": "code",
   "execution_count": 9,
   "metadata": {},
   "outputs": [
    {
     "data": {
      "text/plain": [
       "14.0"
      ]
     },
     "execution_count": 9,
     "metadata": {},
     "output_type": "execute_result"
    }
   ],
   "source": [
    "2+3**2+9/3"
   ]
  },
  {
   "cell_type": "code",
   "execution_count": 10,
   "metadata": {},
   "outputs": [
    {
     "data": {
      "text/plain": [
       "-4.0"
      ]
     },
     "execution_count": 10,
     "metadata": {},
     "output_type": "execute_result"
    }
   ],
   "source": [
    "2-3**2+9/3"
   ]
  }
 ],
 "metadata": {
  "kernelspec": {
   "display_name": "Python 3",
   "language": "python",
   "name": "python3"
  },
  "language_info": {
   "codemirror_mode": {
    "name": "ipython",
    "version": 3
   },
   "file_extension": ".py",
   "mimetype": "text/x-python",
   "name": "python",
   "nbconvert_exporter": "python",
   "pygments_lexer": "ipython3",
   "version": "3.8.3"
  }
 },
 "nbformat": 4,
 "nbformat_minor": 4
}
