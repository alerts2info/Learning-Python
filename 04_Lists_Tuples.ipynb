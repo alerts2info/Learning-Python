{
 "cells": [
  {
   "cell_type": "markdown",
   "metadata": {},
   "source": [
    "# Table of Contents\n",
    "\n",
    "### 1. [Tuples](#tuples)\n",
    "\n",
    "### 2. [Lists](#lists)\n",
    "\n",
    "### 3. [Operations common for both tuple and list](#tuples_list_operations)\n",
    "\n",
    "### 4. [Operations only applicable to Lists](#lists_operations)"
   ]
  },
  {
   "cell_type": "markdown",
   "metadata": {},
   "source": [
    "# Tuples and Lists\n",
    "Python tuples and lists can be used to hold any number of data items of any data types. \n",
    "\n",
    "A tuple is a collection of objects which are ordered and immutable. \n",
    "Tuples are sequences, just like lists. \n",
    "The differences between tuples and lists are, the tuples cannot be changed unlike lists and tuples use parentheses, whereas lists use square brackets.\n",
    "\n",
    "<div class=\"alert alert-block alert-info\">\n",
    "\n",
    "__Tuples are immutable__, so once they are created we cannot change them. \n",
    "__Lists are mutable__, so we can easily insert items and remove items whenever we want.\n",
    "</div>"
   ]
  },
  {
   "cell_type": "markdown",
   "metadata": {},
   "source": [
    "# 1. Tuples<a id='tuples'></a>\n",
    "Creating a tuple is as simple as putting different comma-separated values. Optionally you can put these comma-separated values between parentheses also. For example"
   ]
  },
  {
   "cell_type": "code",
   "execution_count": 1,
   "metadata": {},
   "outputs": [
    {
     "name": "stdout",
     "output_type": "stream",
     "text": [
      "('physics', 'chemistry', 1997, 2000)\n",
      "(1, 2, 3, 4, 5)\n",
      "('a', 'b', 'c', 'd')\n",
      "()\n",
      "(50,)\n"
     ]
    }
   ],
   "source": [
    "tuple1 = ('physics', 'chemistry', 1997, 2000)\n",
    "tuple2 = (1, 2, 3, 4, 5 )\n",
    "tuple3 = \"a\", \"b\", \"c\", \"d\"\n",
    "\n",
    "### The empty tuple is written as two parentheses containing nothing −\n",
    "tuple4=( )\n",
    "\n",
    "### NOTE: To write a tuple containing a single value you have to include a comma, even though there is only one value −\n",
    "tuple5 = (50,)\n",
    "\n",
    "print(tuple1)\n",
    "print(tuple2)\n",
    "print(tuple3)\n",
    "print(tuple4)\n",
    "print(tuple5)\n",
    "\n",
    "del(tuple1, tuple2, tuple3, tuple4, tuple5) #### Deleting the tuples created earlier"
   ]
  },
  {
   "cell_type": "markdown",
   "metadata": {},
   "source": [
    "## Accessing Values in Tuples\n",
    "To access values in tuple, use the square brackets for slicing along with the index or indices to obtain value available at that index.\n",
    "\n",
    "<div class=\"alert alert-block alert-info\">\n",
    "    \n",
    "__Note :__ Indexing includes the lower bound and excludes the upper bound\n",
    "</div>"
   ]
  },
  {
   "cell_type": "code",
   "execution_count": 2,
   "metadata": {},
   "outputs": [
    {
     "name": "stdout",
     "output_type": "stream",
     "text": [
      "physics\n",
      "chemistry\n",
      "1997\n",
      "('chemistry',)\n",
      "(2, 3)\n",
      "('b', 'c', 'd')\n"
     ]
    }
   ],
   "source": [
    "tuple1 = ('physics', 'chemistry', 1997, 2000)\n",
    "tuple2 = (1, 2, 3, 4, 5 )\n",
    "tuple3 = \"a\", \"b\", \"c\", \"d\"\n",
    "\n",
    "print(tuple1[0])\n",
    "print(tuple1[1])\n",
    "print(tuple1[2])\n",
    "\n",
    "print(tuple1[1:2]) # (‘chemistry’,) Indexing includes the lower bound (index 1) and excludes the upper bound (index 2)\n",
    "print(tuple2[1:3]) # (2,3)\n",
    "print(tuple3[1:4]) # (‘b’,’c’,’d’)\n",
    "\n",
    "\n",
    "del(tuple1, tuple2, tuple3) #### Deleting the tuples created earlier"
   ]
  },
  {
   "cell_type": "markdown",
   "metadata": {},
   "source": [
    "## Updating Tuples\n",
    "Tuples are immutable which means you cannot update or change the values of tuple elements (__append( ), pop( ), remove( ) will not work__). But we are able to take portions of existing tuples to create new tuples: \n",
    "\n",
    "tuple4=tuple2+tuple3[2:3] "
   ]
  },
  {
   "cell_type": "code",
   "execution_count": 3,
   "metadata": {},
   "outputs": [],
   "source": [
    "tuple1 = ('physics', 'chemistry', 1997, 2000)\n",
    "tuple2 = (1, 2, 3, 4, 5 )\n",
    "tuple3 = \"a\", \"b\", \"c\", \"d\""
   ]
  },
  {
   "cell_type": "code",
   "execution_count": 4,
   "metadata": {},
   "outputs": [
    {
     "ename": "AttributeError",
     "evalue": "'tuple' object has no attribute 'append'",
     "output_type": "error",
     "traceback": [
      "\u001b[1;31m---------------------------------------------------------------------------\u001b[0m",
      "\u001b[1;31mAttributeError\u001b[0m                            Traceback (most recent call last)",
      "\u001b[1;32m<ipython-input-4-58f34019b9b9>\u001b[0m in \u001b[0;36m<module>\u001b[1;34m\u001b[0m\n\u001b[1;32m----> 1\u001b[1;33m \u001b[0mtuple1\u001b[0m\u001b[1;33m.\u001b[0m\u001b[0mappend\u001b[0m\u001b[1;33m(\u001b[0m\u001b[1;36m2020\u001b[0m\u001b[1;33m)\u001b[0m\u001b[1;33m\u001b[0m\u001b[1;33m\u001b[0m\u001b[0m\n\u001b[0m",
      "\u001b[1;31mAttributeError\u001b[0m: 'tuple' object has no attribute 'append'"
     ]
    }
   ],
   "source": [
    "tuple1.append(2020)"
   ]
  },
  {
   "cell_type": "code",
   "execution_count": 5,
   "metadata": {},
   "outputs": [
    {
     "ename": "AttributeError",
     "evalue": "'tuple' object has no attribute 'pop'",
     "output_type": "error",
     "traceback": [
      "\u001b[1;31m---------------------------------------------------------------------------\u001b[0m",
      "\u001b[1;31mAttributeError\u001b[0m                            Traceback (most recent call last)",
      "\u001b[1;32m<ipython-input-5-0fe67a0487c5>\u001b[0m in \u001b[0;36m<module>\u001b[1;34m\u001b[0m\n\u001b[1;32m----> 1\u001b[1;33m \u001b[0mtuple1\u001b[0m\u001b[1;33m.\u001b[0m\u001b[0mpop\u001b[0m\u001b[1;33m(\u001b[0m\u001b[1;33m)\u001b[0m\u001b[1;33m\u001b[0m\u001b[1;33m\u001b[0m\u001b[0m\n\u001b[0m",
      "\u001b[1;31mAttributeError\u001b[0m: 'tuple' object has no attribute 'pop'"
     ]
    }
   ],
   "source": [
    "tuple1.pop()"
   ]
  },
  {
   "cell_type": "code",
   "execution_count": 6,
   "metadata": {},
   "outputs": [
    {
     "ename": "AttributeError",
     "evalue": "'tuple' object has no attribute 'remove'",
     "output_type": "error",
     "traceback": [
      "\u001b[1;31m---------------------------------------------------------------------------\u001b[0m",
      "\u001b[1;31mAttributeError\u001b[0m                            Traceback (most recent call last)",
      "\u001b[1;32m<ipython-input-6-c4fc7ad5a00f>\u001b[0m in \u001b[0;36m<module>\u001b[1;34m\u001b[0m\n\u001b[1;32m----> 1\u001b[1;33m \u001b[0mtuple1\u001b[0m\u001b[1;33m.\u001b[0m\u001b[0mremove\u001b[0m\u001b[1;33m(\u001b[0m\u001b[1;36m1997\u001b[0m\u001b[1;33m)\u001b[0m\u001b[1;33m\u001b[0m\u001b[1;33m\u001b[0m\u001b[0m\n\u001b[0m",
      "\u001b[1;31mAttributeError\u001b[0m: 'tuple' object has no attribute 'remove'"
     ]
    }
   ],
   "source": [
    "tuple1.remove(1997)"
   ]
  },
  {
   "cell_type": "code",
   "execution_count": 7,
   "metadata": {},
   "outputs": [
    {
     "name": "stdout",
     "output_type": "stream",
     "text": [
      "(1, 2, 3, 4, 5, 'c')\n"
     ]
    }
   ],
   "source": [
    "tuple4=tuple2+tuple3[2:3]\n",
    "print(tuple4)"
   ]
  },
  {
   "cell_type": "code",
   "execution_count": 8,
   "metadata": {},
   "outputs": [],
   "source": [
    "del(tuple1, tuple2, tuple3, tuple4) #### Deleting the tuples created earlier"
   ]
  },
  {
   "cell_type": "markdown",
   "metadata": {},
   "source": [
    "## Examples for tuples"
   ]
  },
  {
   "cell_type": "code",
   "execution_count": 9,
   "metadata": {},
   "outputs": [
    {
     "name": "stdout",
     "output_type": "stream",
     "text": [
      "()\n"
     ]
    }
   ],
   "source": [
    "a=(1,2,3,4)\n",
    "print(a[1:1])"
   ]
  },
  {
   "cell_type": "code",
   "execution_count": 10,
   "metadata": {},
   "outputs": [
    {
     "name": "stdout",
     "output_type": "stream",
     "text": [
      "()\n",
      "(1, 2, 3)\n",
      "(1, 'Hello', 3.4)\n",
      "('mouse', [8, 4, 6], (1, 2, 3))\n",
      "<class 'str'>\n",
      "<class 'list'>\n",
      "<class 'tuple'>\n",
      "<class 'tuple'>\n"
     ]
    }
   ],
   "source": [
    "# Different types of tuples\n",
    "# Empty tuple\n",
    "my_tuple = ()\n",
    "print(my_tuple)\n",
    "\n",
    "# Tuple having integers\n",
    "my_tuple = (1, 2, 3)\n",
    "print(my_tuple)\n",
    "\n",
    "# tuple with mixed datatypes\n",
    "my_tuple = (1, \"Hello\", 3.4)\n",
    "print(my_tuple)\n",
    "\n",
    "# nested tuple\n",
    "my_tuple = (\"mouse\", [8, 4, 6], (1, 2, 3))\n",
    "print(my_tuple)\n",
    "\n",
    "print(type(my_tuple[0]))\n",
    "print(type(my_tuple[1]))\n",
    "print(type(my_tuple[2]))\n",
    "print(type(my_tuple))"
   ]
  },
  {
   "cell_type": "code",
   "execution_count": 11,
   "metadata": {},
   "outputs": [
    {
     "name": "stdout",
     "output_type": "stream",
     "text": [
      "(3, 4.6, 'dog')\n",
      "<class 'tuple'>\n",
      "3\n",
      "4.6\n",
      "dog\n"
     ]
    }
   ],
   "source": [
    "my_tuple = 3, 4.6, \"dog\"\n",
    "print(my_tuple)\n",
    "print(type(my_tuple))\n",
    "\n",
    "# tuple unpacking is also possible\n",
    "a, b, c = my_tuple\n",
    "\n",
    "print(a)      # 3\n",
    "print(b)      # 4.6\n",
    "print(c)      # dog"
   ]
  },
  {
   "cell_type": "code",
   "execution_count": 12,
   "metadata": {},
   "outputs": [
    {
     "name": "stdout",
     "output_type": "stream",
     "text": [
      "p\n",
      "t\n",
      "s\n",
      "4\n"
     ]
    }
   ],
   "source": [
    "# Accessing tuple elements using indexing\n",
    "my_tuple = ('p','e','r','m','i','t')\n",
    "\n",
    "print(my_tuple[0])   # 'p' \n",
    "print(my_tuple[5])   # 't'\n",
    "\n",
    "# nested tuple\n",
    "n_tuple = (\"mouse\", [8, 4, 6], (1, 2, 3))\n",
    "\n",
    "# nested index\n",
    "print(n_tuple[0][3])       # 's'\n",
    "print(n_tuple[1][1])       # 4"
   ]
  },
  {
   "cell_type": "code",
   "execution_count": 13,
   "metadata": {},
   "outputs": [
    {
     "ename": "IndexError",
     "evalue": "tuple index out of range",
     "output_type": "error",
     "traceback": [
      "\u001b[1;31m---------------------------------------------------------------------------\u001b[0m",
      "\u001b[1;31mIndexError\u001b[0m                                Traceback (most recent call last)",
      "\u001b[1;32m<ipython-input-13-93b070875988>\u001b[0m in \u001b[0;36m<module>\u001b[1;34m\u001b[0m\n\u001b[0;32m      1\u001b[0m \u001b[1;31m# IndexError: list index out of range\u001b[0m\u001b[1;33m\u001b[0m\u001b[1;33m\u001b[0m\u001b[1;33m\u001b[0m\u001b[0m\n\u001b[1;32m----> 2\u001b[1;33m \u001b[0mprint\u001b[0m\u001b[1;33m(\u001b[0m\u001b[0mmy_tuple\u001b[0m\u001b[1;33m[\u001b[0m\u001b[1;36m6\u001b[0m\u001b[1;33m]\u001b[0m\u001b[1;33m)\u001b[0m\u001b[1;33m\u001b[0m\u001b[1;33m\u001b[0m\u001b[0m\n\u001b[0m",
      "\u001b[1;31mIndexError\u001b[0m: tuple index out of range"
     ]
    }
   ],
   "source": [
    "# IndexError: list index out of range\n",
    "print(my_tuple[6])"
   ]
  },
  {
   "cell_type": "code",
   "execution_count": 14,
   "metadata": {},
   "outputs": [
    {
     "ename": "TypeError",
     "evalue": "tuple indices must be integers or slices, not float",
     "output_type": "error",
     "traceback": [
      "\u001b[1;31m---------------------------------------------------------------------------\u001b[0m",
      "\u001b[1;31mTypeError\u001b[0m                                 Traceback (most recent call last)",
      "\u001b[1;32m<ipython-input-14-82849314def3>\u001b[0m in \u001b[0;36m<module>\u001b[1;34m\u001b[0m\n\u001b[0;32m      1\u001b[0m \u001b[1;31m# Index must be an integer\u001b[0m\u001b[1;33m\u001b[0m\u001b[1;33m\u001b[0m\u001b[1;33m\u001b[0m\u001b[0m\n\u001b[0;32m      2\u001b[0m \u001b[1;31m# TypeError: list indices must be integers, not float\u001b[0m\u001b[1;33m\u001b[0m\u001b[1;33m\u001b[0m\u001b[1;33m\u001b[0m\u001b[0m\n\u001b[1;32m----> 3\u001b[1;33m \u001b[0mmy_tuple\u001b[0m\u001b[1;33m[\u001b[0m\u001b[1;36m2.0\u001b[0m\u001b[1;33m]\u001b[0m\u001b[1;33m\u001b[0m\u001b[1;33m\u001b[0m\u001b[0m\n\u001b[0m",
      "\u001b[1;31mTypeError\u001b[0m: tuple indices must be integers or slices, not float"
     ]
    }
   ],
   "source": [
    "# Index must be an integer\n",
    "# TypeError: list indices must be integers, not float\n",
    "my_tuple[2.0]"
   ]
  },
  {
   "cell_type": "code",
   "execution_count": 15,
   "metadata": {},
   "outputs": [
    {
     "name": "stdout",
     "output_type": "stream",
     "text": [
      "t\n",
      "p\n"
     ]
    }
   ],
   "source": [
    "# Negative indexing for accessing tuple elements\n",
    "my_tuple = ('p', 'e', 'r', 'm', 'i', 't')\n",
    "\n",
    "# Output: 't'\n",
    "print(my_tuple[-1])\n",
    "\n",
    "# Output: 'p'\n",
    "print(my_tuple[-6])"
   ]
  },
  {
   "cell_type": "markdown",
   "metadata": {},
   "source": [
    "# 2. Lists<a id='lists'></a>\n",
    "Lists are similar to tuples as both can be used to hold any number of data items of any data types. The main difference in declaring the tuple and list is, parenthesis ( round brackets ) are used to declare tuples where as square brackets [  ] are used to declare/indicate lists."
   ]
  },
  {
   "cell_type": "markdown",
   "metadata": {},
   "source": [
    "## Updating the lists\n",
    "As lists are mutable, append( ), pop( ), remove( ) can be used to update the lists"
   ]
  },
  {
   "cell_type": "code",
   "execution_count": 16,
   "metadata": {},
   "outputs": [
    {
     "name": "stdout",
     "output_type": "stream",
     "text": [
      "<class 'list'>\n",
      "<class 'list'>\n"
     ]
    }
   ],
   "source": [
    "list1 = ['physics', 'chemistry', 1997, 2000]\n",
    "list2 = [1, 2, 3, 4, 5 ]\n",
    "print(type(list1))\n",
    "print(type(list2))"
   ]
  },
  {
   "cell_type": "code",
   "execution_count": 17,
   "metadata": {},
   "outputs": [
    {
     "name": "stdout",
     "output_type": "stream",
     "text": [
      "['physics', 'chemistry', 1997, 2000, 2020]\n"
     ]
    }
   ],
   "source": [
    "list1.append(2020)\n",
    "print(list1)"
   ]
  },
  {
   "cell_type": "code",
   "execution_count": 18,
   "metadata": {},
   "outputs": [
    {
     "name": "stdout",
     "output_type": "stream",
     "text": [
      "['physics', 'chemistry', 1997, 2020]\n"
     ]
    }
   ],
   "source": [
    "list1.remove(2000)\n",
    "print(list1)"
   ]
  },
  {
   "cell_type": "code",
   "execution_count": 19,
   "metadata": {},
   "outputs": [
    {
     "name": "stdout",
     "output_type": "stream",
     "text": [
      "['physics', 'chemistry', 1997]\n"
     ]
    }
   ],
   "source": [
    "list1.pop()\n",
    "print(list1)"
   ]
  },
  {
   "cell_type": "markdown",
   "metadata": {},
   "source": [
    "# 3. Operations common for both tuple and list are as follows<a id='tuples_list_operations'></a>\n",
    "\n",
    "| __Sl No__ |__Operation/Functions & Description__  |\n",
    "| :- | :- | \n",
    "| 1 |__x in seq__ |\n",
    "|   |True, when x is found in the sequence seq, otherwise False  | \n",
    "| 2 |__x not in seq__ |\n",
    "|    |False, when x is found in the sequence seq, otherwise True|\n",
    "| 3 | __x + y__ |\n",
    "|    | Concatenate two sequences x and y| \n",
    "| 4 | __x * n or n * x__ |\n",
    "|   | Replicate sequence x with itself n times |\n",
    "| 5 | __seq[ i ]__ |\n",
    "|   |ith  item of the sequence. |\n",
    "| 6 | __seq[ i:j ]__ |\n",
    "|   | Slice sequence from index i to j |\n",
    "| 7 | __seq[ i:j:k ]__ |\n",
    "|   | Slice sequence from index i to j with step k |\n",
    "| 8 | __len(seq)__ |\n",
    "|   | Length or number of elements in the sequence|\n",
    "| 9 | __min(seq)__ |\n",
    "|   | Minimum element in the sequence |\n",
    "| 10 | __max(seq)__ |\n",
    "|   |Maximum element in the sequence |\n",
    "| 11 | __seq.count(x)__ |\n",
    "|   | Count total number of elements in the sequence |"
   ]
  },
  {
   "cell_type": "markdown",
   "metadata": {},
   "source": [
    "## Operations which are common for both Tuples and Lists\n",
    "\n",
    "<div class=\"alert alert-block alert-info\">\n",
    "    \n",
    "The following operations works for list as well:\n",
    "\n",
    "myList1 = [10, 20, 30, 40,40, 50,60,70,80,90,100]\n",
    "\n",
    "myList2 = [1,'psychology','journalism','computer science',94.2]\n",
    "   \n",
    "</div>"
   ]
  },
  {
   "cell_type": "markdown",
   "metadata": {},
   "source": [
    "## Operations on Tuples"
   ]
  },
  {
   "cell_type": "code",
   "execution_count": 20,
   "metadata": {
    "scrolled": true
   },
   "outputs": [
    {
     "name": "stdout",
     "output_type": "stream",
     "text": [
      "The items in myTuple1 are  (10, 20, 30, 40, 40, 50, 60, 70, 80, 90, 100)\n",
      "The items in myTuple2 are  (1, 'psychology', 'journalism', 'computer science', 94.2)\n"
     ]
    }
   ],
   "source": [
    "myTuple1 = (10, 20, 30, 40,40, 50,60,70,80,90,100)\n",
    "myTuple2 = (1,'psychology','journalism','computer science',94.2)\n",
    "\n",
    "print(\"The items in myTuple1 are \", myTuple1)\n",
    "print(\"The items in myTuple2 are \", myTuple2)"
   ]
  },
  {
   "cell_type": "markdown",
   "metadata": {},
   "source": [
    "### x in sequence "
   ]
  },
  {
   "cell_type": "code",
   "execution_count": 21,
   "metadata": {},
   "outputs": [
    {
     "name": "stdout",
     "output_type": "stream",
     "text": [
      "x in seq demo\n",
      "30 is present\n",
      "The number 31 not present\n"
     ]
    }
   ],
   "source": [
    "print(\"x in seq demo\")\n",
    "if(30 in myTuple1):\n",
    "    print('30 is present')\n",
    "else:\n",
    "    print('The number 30 not present')\n",
    "\n",
    "if(31 in myTuple1):\n",
    "    print('The number 31 present')\n",
    "else:\n",
    "    print('The number 31 not present')"
   ]
  },
  {
   "cell_type": "markdown",
   "metadata": {},
   "source": [
    "### x not in sequence "
   ]
  },
  {
   "cell_type": "code",
   "execution_count": 22,
   "metadata": {},
   "outputs": [
    {
     "name": "stdout",
     "output_type": "stream",
     "text": [
      "x not in seq demo\n",
      "psychology is present\n"
     ]
    }
   ],
   "source": [
    "print(\"x not in seq demo\")    \n",
    "if ('psychology' not in myTuple2):\n",
    "    print('psychology is not present')\n",
    "else:\n",
    "    print('psychology is present')"
   ]
  },
  {
   "cell_type": "markdown",
   "metadata": {},
   "source": [
    "### Concatination "
   ]
  },
  {
   "cell_type": "code",
   "execution_count": 23,
   "metadata": {},
   "outputs": [
    {
     "name": "stdout",
     "output_type": "stream",
     "text": [
      "newTuple contents are:  (10, 20, 30, 40, 40, 50, 60, 70, 80, 90, 100, 1, 'psychology', 'journalism', 'computer science', 94.2)\n"
     ]
    }
   ],
   "source": [
    "newTuple=myTuple1 + myTuple2 # Concatination\n",
    "print(\"newTuple contents are: \",newTuple) "
   ]
  },
  {
   "cell_type": "markdown",
   "metadata": {},
   "source": [
    "### x * n or n * x"
   ]
  },
  {
   "cell_type": "code",
   "execution_count": 24,
   "metadata": {},
   "outputs": [
    {
     "name": "stdout",
     "output_type": "stream",
     "text": [
      "myTuple1 * 3 or 3 * myTuple1 is  (10, 20, 30, 40, 40, 50, 60, 70, 80, 90, 100, 10, 20, 30, 40, 40, 50, 60, 70, 80, 90, 100, 10, 20, 30, 40, 40, 50, 60, 70, 80, 90, 100)\n"
     ]
    }
   ],
   "source": [
    "myTuple1_3=myTuple1 * 3 #Add myTuple1 three times with itself\n",
    "print(\"myTuple1 * 3 or 3 * myTuple1 is \",myTuple1_3) "
   ]
  },
  {
   "cell_type": "markdown",
   "metadata": {},
   "source": [
    "### sequence[ i ] "
   ]
  },
  {
   "cell_type": "code",
   "execution_count": 25,
   "metadata": {
    "scrolled": true
   },
   "outputs": [
    {
     "name": "stdout",
     "output_type": "stream",
     "text": [
      "Third item in myTuple1 is  30\n"
     ]
    }
   ],
   "source": [
    "print(\"Third item in myTuple1 is \", myTuple1[2])"
   ]
  },
  {
   "cell_type": "markdown",
   "metadata": {},
   "source": [
    "### sequence[ i :j]  "
   ]
  },
  {
   "cell_type": "code",
   "execution_count": 26,
   "metadata": {},
   "outputs": [
    {
     "name": "stdout",
     "output_type": "stream",
     "text": [
      "Slicing: The items in the index from 2 to 7 in myTuple1 are (30, 40, 40, 50, 60)\n"
     ]
    }
   ],
   "source": [
    "print(\"Slicing: The items in the index from 2 to 7 in myTuple1 are\",myTuple1[2:7])"
   ]
  },
  {
   "cell_type": "markdown",
   "metadata": {},
   "source": [
    "### sequence[ i  : j : k]  "
   ]
  },
  {
   "cell_type": "code",
   "execution_count": 27,
   "metadata": {},
   "outputs": [
    {
     "name": "stdout",
     "output_type": "stream",
     "text": [
      "Slicing with steps k: The items in the index from 2 to 7 in k (2) steps in myTuple1 are (30, 40, 60)\n"
     ]
    }
   ],
   "source": [
    "print(\"Slicing with steps k: The items in the index from 2 to 7 in k (2) steps in myTuple1 are\",myTuple1[2:7:2])"
   ]
  },
  {
   "cell_type": "markdown",
   "metadata": {},
   "source": [
    "### len( )"
   ]
  },
  {
   "cell_type": "code",
   "execution_count": 28,
   "metadata": {
    "scrolled": true
   },
   "outputs": [
    {
     "name": "stdout",
     "output_type": "stream",
     "text": [
      "length of myTuple1 is  11\n",
      "length of myTuple2 is  5\n"
     ]
    }
   ],
   "source": [
    "print(\"length of myTuple1 is \",len(myTuple1))\n",
    "print(\"length of myTuple2 is \",len(myTuple2))"
   ]
  },
  {
   "cell_type": "markdown",
   "metadata": {},
   "source": [
    "### min( ) "
   ]
  },
  {
   "cell_type": "code",
   "execution_count": 29,
   "metadata": {},
   "outputs": [
    {
     "name": "stdout",
     "output_type": "stream",
     "text": [
      "Minimum value in myTuple1 is  10\n",
      "Maximum value in myTuple1 is  100\n"
     ]
    }
   ],
   "source": [
    "print(\"Minimum value in myTuple1 is \",min(myTuple1))\n",
    "print(\"Maximum value in myTuple1 is \",max(myTuple1))"
   ]
  },
  {
   "cell_type": "markdown",
   "metadata": {},
   "source": [
    "### max( ) "
   ]
  },
  {
   "cell_type": "code",
   "execution_count": 30,
   "metadata": {},
   "outputs": [
    {
     "name": "stdout",
     "output_type": "stream",
     "text": [
      "The no of times the item 40 appeared in myTuple1_3 is  6\n"
     ]
    }
   ],
   "source": [
    "print(\"The no of times the item 40 appeared in myTuple1_3 is \",myTuple1_3.count(40)) #42 has two times in the tuple"
   ]
  },
  {
   "cell_type": "markdown",
   "metadata": {},
   "source": [
    "# 4. Operations only applicable to list are as follows <a id='lists_operations'></a>\n",
    "\n",
    "| __Sl No__ |__Operation/Functions & Description__  |\n",
    "| :- | :- | \n",
    "| 1 |__seq.append(x)__ |\n",
    "|   | Add x at the end of the sequence  | \n",
    "| 2 |__seq.clear( )__ |\n",
    "|    | Clear the contents of the sequence |\n",
    "| 3 | __seq.insert(i, x)__ |\n",
    "|    | Insert x at the position i | \n",
    "| 4 | __seq.pop([i])__ |\n",
    "|   | Return the item at position i, and also remove it from sequence. Default is last element |\n",
    "| 5 | __seq.remove(x)__ |\n",
    "|   | Remove first occurrence of item x |\n",
    "| 6 | __seq.reverse( )__ |\n",
    "|   | Reverse the list |\n"
   ]
  },
  {
   "cell_type": "markdown",
   "metadata": {},
   "source": [
    "## Operation on List "
   ]
  },
  {
   "cell_type": "code",
   "execution_count": 31,
   "metadata": {
    "scrolled": true
   },
   "outputs": [
    {
     "name": "stdout",
     "output_type": "stream",
     "text": [
      "[10, 20, 30, 40, 50, 60, 70, 80, 90, 100]\n",
      "[56, 42, 79, 42, 85, 96, 23]\n"
     ]
    }
   ],
   "source": [
    "myList1 = [10, 20, 30, 40, 50,60,70,80,90,100]\n",
    "myList2 = [56, 42, 79, 42, 85, 96, 23]\n",
    "\n",
    "print(myList1)\n",
    "print(myList2)"
   ]
  },
  {
   "cell_type": "markdown",
   "metadata": {},
   "source": [
    "### append( ) "
   ]
  },
  {
   "cell_type": "code",
   "execution_count": 32,
   "metadata": {},
   "outputs": [
    {
     "name": "stdout",
     "output_type": "stream",
     "text": [
      "Append 60 to myList1\n",
      "[10, 20, 30, 40, 50, 60, 70, 80, 90, 100, 60]\n"
     ]
    }
   ],
   "source": [
    "print(\"Append 60 to myList1\")\n",
    "myList1.append(60)\n",
    "print(myList1)"
   ]
  },
  {
   "cell_type": "markdown",
   "metadata": {},
   "source": [
    "### insert( ) "
   ]
  },
  {
   "cell_type": "code",
   "execution_count": 33,
   "metadata": {},
   "outputs": [
    {
     "name": "stdout",
     "output_type": "stream",
     "text": [
      "Content of myList2 after Inserting 17 in 5th index of myList2 are  [56, 42, 79, 42, 85, 17, 96, 23]\n"
     ]
    }
   ],
   "source": [
    "myList2.insert(5, 17)\n",
    "print(\"Content of myList2 after Inserting 17 in 5th index of myList2 are \", myList2)"
   ]
  },
  {
   "cell_type": "markdown",
   "metadata": {},
   "source": [
    "### pop( ) "
   ]
  },
  {
   "cell_type": "code",
   "execution_count": 34,
   "metadata": {},
   "outputs": [
    {
     "name": "stdout",
     "output_type": "stream",
     "text": [
      "After pop(3) operation ie remove the item in index 3 in myList1  [10, 20, 30, 50, 60, 70, 80, 90, 100, 60]\n"
     ]
    }
   ],
   "source": [
    "myList1.pop(3)\n",
    "print(\"After pop(3) operation ie remove the item in index 3 in myList1 \", myList1)"
   ]
  },
  {
   "cell_type": "markdown",
   "metadata": {},
   "source": [
    "### remove( ) "
   ]
  },
  {
   "cell_type": "code",
   "execution_count": 35,
   "metadata": {},
   "outputs": [
    {
     "name": "stdout",
     "output_type": "stream",
     "text": [
      "Remove the first occurence of the item 42 from a sequence myList2\n",
      "[56, 79, 42, 85, 17, 96, 23]\n"
     ]
    }
   ],
   "source": [
    "print(\"Remove the first occurence of the item 42 from a sequence myList2\")\n",
    "myList2.remove(42)\n",
    "print(myList2)"
   ]
  },
  {
   "cell_type": "markdown",
   "metadata": {},
   "source": [
    "### reverse( ) "
   ]
  },
  {
   "cell_type": "code",
   "execution_count": 36,
   "metadata": {},
   "outputs": [
    {
     "name": "stdout",
     "output_type": "stream",
     "text": [
      "Reverse of myList1 [60, 100, 90, 80, 70, 60, 50, 30, 20, 10]\n"
     ]
    }
   ],
   "source": [
    "myList1.reverse()\n",
    "print(\"Reverse of myList1\",myList1)"
   ]
  },
  {
   "cell_type": "markdown",
   "metadata": {},
   "source": [
    "### del"
   ]
  },
  {
   "cell_type": "code",
   "execution_count": 37,
   "metadata": {},
   "outputs": [
    {
     "name": "stdout",
     "output_type": "stream",
     "text": [
      "\n",
      "myList1 content after deleting the item in 0th index is  [100, 90, 80, 70, 60, 50, 30, 20, 10]\n"
     ]
    }
   ],
   "source": [
    "print()\n",
    "del myList1[0]\n",
    "print(\"myList1 content after deleting the item in 0th index is \",myList1)"
   ]
  },
  {
   "cell_type": "markdown",
   "metadata": {},
   "source": [
    "### clear( )"
   ]
  },
  {
   "cell_type": "code",
   "execution_count": 38,
   "metadata": {},
   "outputs": [
    {
     "name": "stdout",
     "output_type": "stream",
     "text": [
      "Contents of myList1 after clearing the items in the myList1 []\n"
     ]
    }
   ],
   "source": [
    "myList1.clear()\n",
    "print(\"Contents of myList1 after clearing the items in the myList1\",myList1)"
   ]
  }
 ],
 "metadata": {
  "kernelspec": {
   "display_name": "Python 3",
   "language": "python",
   "name": "python3"
  },
  "language_info": {
   "codemirror_mode": {
    "name": "ipython",
    "version": 3
   },
   "file_extension": ".py",
   "mimetype": "text/x-python",
   "name": "python",
   "nbconvert_exporter": "python",
   "pygments_lexer": "ipython3",
   "version": "3.8.3"
  }
 },
 "nbformat": 4,
 "nbformat_minor": 4
}
