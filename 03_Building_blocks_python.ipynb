{
 "cells": [
  {
   "cell_type": "markdown",
   "metadata": {},
   "source": [
    "# Basic building blocks of Python"
   ]
  },
  {
   "cell_type": "markdown",
   "metadata": {},
   "source": [
    "### 1. [Identifiers and Keywords](#identifier_keyword)\n",
    "\n",
    "### 2. [Integral Types](#integral_types)\n",
    "\n",
    "### 3. [Floating point types](#floating_types)\n",
    "\n",
    "### 4. [Complex numbers](#complex_types)\n",
    "\n",
    "### 5. [Strings](#strings)\n",
    "\n",
    "### 6. [Decision Making](#decision_making)\n",
    "\n",
    "### 7. [Loops in Python](#loops_python)\n",
    "\n",
    "### 8. [Control Statements](#control_statements)"
   ]
  },
  {
   "cell_type": "markdown",
   "metadata": {},
   "source": [
    "## 1. Identifiers and Keywords<a id='identifier_keyword'></a>"
   ]
  },
  {
   "cell_type": "markdown",
   "metadata": {},
   "source": [
    "### __IDENTIFIERS__\n",
    "\n",
    "An identifier is a name given to entities like class, functions, methods, variables, etc. It helps to differentiate one entity from another.\n",
    "\n",
    "__Rules for writing identifiers__\n",
    "\n",
    "1. __Identifiers can be a combination of:__\n",
    "\n",
    "    1. Lowercase (a to z) \n",
    "\n",
    "    1. Uppercase (A to Z)\n",
    "\n",
    "    1. Digits (0 to 9) \n",
    "\n",
    "    1. An underscore_  \n",
    "    \n",
    "       Examples: myClass, var_1, print_this_to_screen.\n",
    "\n",
    "1. __An identifier cannot start with a digit:__\n",
    "\n",
    "    Example: 1variable is invalid, but variable1 is a valid\n",
    "\n",
    "1. __Keywords cannot be used as identifiers__\n",
    "\n",
    "1. __We cannot use special symbols like !, @, #, $, % etc. in our identifier__\n",
    "\n",
    "1. __An identifier can be of any length.__\n"
   ]
  },
  {
   "cell_type": "code",
   "execution_count": 1,
   "metadata": {},
   "outputs": [
    {
     "ename": "SyntaxError",
     "evalue": "invalid syntax (<ipython-input-1-ba1c4b0834e0>, line 2)",
     "output_type": "error",
     "traceback": [
      "\u001b[1;36m  File \u001b[1;32m\"<ipython-input-1-ba1c4b0834e0>\"\u001b[1;36m, line \u001b[1;32m2\u001b[0m\n\u001b[1;33m    1variable=10\u001b[0m\n\u001b[1;37m     ^\u001b[0m\n\u001b[1;31mSyntaxError\u001b[0m\u001b[1;31m:\u001b[0m invalid syntax\n"
     ]
    }
   ],
   "source": [
    "myClass=1\n",
    "1variable=10"
   ]
  },
  {
   "cell_type": "code",
   "execution_count": 2,
   "metadata": {},
   "outputs": [
    {
     "ename": "SyntaxError",
     "evalue": "cannot assign to True (<ipython-input-2-f9c1faaf4ad0>, line 1)",
     "output_type": "error",
     "traceback": [
      "\u001b[1;36m  File \u001b[1;32m\"<ipython-input-2-f9c1faaf4ad0>\"\u001b[1;36m, line \u001b[1;32m1\u001b[0m\n\u001b[1;33m    True=10\u001b[0m\n\u001b[1;37m    ^\u001b[0m\n\u001b[1;31mSyntaxError\u001b[0m\u001b[1;31m:\u001b[0m cannot assign to True\n"
     ]
    }
   ],
   "source": [
    "True=10"
   ]
  },
  {
   "cell_type": "code",
   "execution_count": 3,
   "metadata": {},
   "outputs": [
    {
     "ename": "SyntaxError",
     "evalue": "invalid syntax (<ipython-input-3-b9e535e96a7b>, line 1)",
     "output_type": "error",
     "traceback": [
      "\u001b[1;36m  File \u001b[1;32m\"<ipython-input-3-b9e535e96a7b>\"\u001b[1;36m, line \u001b[1;32m1\u001b[0m\n\u001b[1;33m    variable$=10\u001b[0m\n\u001b[1;37m            ^\u001b[0m\n\u001b[1;31mSyntaxError\u001b[0m\u001b[1;31m:\u001b[0m invalid syntax\n"
     ]
    }
   ],
   "source": [
    "variable$=10"
   ]
  },
  {
   "cell_type": "markdown",
   "metadata": {},
   "source": [
    "<div class=\"alert alert-block alert-info\">\n",
    "    \n",
    "### Things to Remember\n",
    "\n",
    "Python is a case-sensitive language. This means, __Variable__ and __variable__ are not the same.\n",
    "\n",
    "Always give the identifiers a name that makes sense. While c = 10 is a valid name, but writing count = 10 would make more sense, and it would be easier to figure out what it represents anyone look at the code. \n",
    "\n",
    "Multiple words can be used as an identifier with the help of an underscore, like this_is_a_long_variable. \n",
    "</div>"
   ]
  },
  {
   "cell_type": "code",
   "execution_count": 4,
   "metadata": {},
   "outputs": [
    {
     "name": "stdout",
     "output_type": "stream",
     "text": [
      "10\n",
      "100\n"
     ]
    }
   ],
   "source": [
    "variable=10\n",
    "Variable=100\n",
    "print(variable)\n",
    "print(Variable)"
   ]
  },
  {
   "cell_type": "markdown",
   "metadata": {},
   "source": [
    "### __KEYWORDS__\n",
    "\n",
    "__Python Keywords:__ Keywords are the reserved words in Python.\n",
    "\n",
    "1. We cannot use a keyword as a variable name, function name or any other identifier. They are used to define the syntax and structure of the Python language.\n",
    "2. There are 35 keywords in Python 3.7. This number can vary slightly over the course of time.\n",
    "3. In Python, keywords are case sensitive.\n",
    "4. All the keywords except True, False and None are in lowercase and they must be written as they are. The list of all the keywords is given below.\n",
    "\n",
    "|   |   |   |  |  |\n",
    "| :- | -: | :-: | :-: | :-: |\n",
    "| __T__rue |__F__alse  | __N__one |import |class |\n",
    "| if |else  | elif |for |while |\n",
    "| try | except  |finally   | raise | return |\n",
    "| break |  continue | pass |def  | lambda |\n",
    "| from | with  | is  | in | not |\n",
    "|as |and  |  or | del  |  yield |\n",
    "|await  | asert  | async  |global  |nonlocal  |\n"
   ]
  },
  {
   "cell_type": "markdown",
   "metadata": {},
   "source": [
    "## 2. Integral Types<a id='integral_types'></a>"
   ]
  },
  {
   "cell_type": "markdown",
   "metadata": {},
   "source": [
    "Python interprets a sequence of decimal digits without any prefix to be a decimal number.\n",
    "\n",
    "| Prefix  | Interpretation  | Base  |  \n",
    "| :- | :- | :-: | \n",
    "| 0b (zero + lowercase letter 'b')  |  Binary |  2 |\n",
    "| 0B (zero + lowercase letter 'B')  | Binary  | 2  |\n",
    "| 0o (zero + lowercase letter 'o')  | Octal  | 8  |\n",
    "| 0O (zero + lowercase letter 'O')  | Octal  | 8  |\n",
    "| 0x (zero + lowercase letter 'x')  | Hexadecimal  | 16  |\n",
    "| 0X (zero + lowercase letter 'X')  | Hexadecimal  | 16  |"
   ]
  },
  {
   "cell_type": "markdown",
   "metadata": {},
   "source": [
    "## 3. Floating point types<a id='floating_types'></a>"
   ]
  },
  {
   "cell_type": "markdown",
   "metadata": {},
   "source": [
    "The float type in Python designates a floating-point number. Float values are specified with a decimal point. \n",
    "\n",
    "Optionally, the character e or E followed by a positive or negative integer may be appended to specify scientific notation:\n",
    "\n",
    "## 4. Complex Numbers<a id='complex_types'></a>\n",
    "Complex numbers are specified as: __real part + (imaginary part) j__\n",
    "\n",
    "Example: 2+3j\n"
   ]
  },
  {
   "cell_type": "markdown",
   "metadata": {},
   "source": [
    "## 5. Strings<a id='strings'></a>"
   ]
  },
  {
   "cell_type": "markdown",
   "metadata": {},
   "source": [
    "Strings are sequences of character data. \n",
    "1. ‘within single quotes’ \n",
    "1. “within double quotes”\n",
    "\n",
    "A string in Python can contain as many characters as we wish. The only limit is our machine’s memory resources. A string can also be empty:\n",
    "\n",
    "Use the escape \\ sequence if you want to include a quote character as part of the string itself."
   ]
  },
  {
   "cell_type": "code",
   "execution_count": 5,
   "metadata": {},
   "outputs": [
    {
     "name": "stdout",
     "output_type": "stream",
     "text": [
      "It's my life\n"
     ]
    }
   ],
   "source": [
    "print('It\\'s my life')  "
   ]
  },
  {
   "cell_type": "code",
   "execution_count": 6,
   "metadata": {},
   "outputs": [
    {
     "name": "stdout",
     "output_type": "stream",
     "text": [
      "The \"Honey Cake\" is delicious\n"
     ]
    }
   ],
   "source": [
    "print(\"The \\\"Honey Cake\\\" is delicious\") "
   ]
  },
  {
   "cell_type": "markdown",
   "metadata": {},
   "source": [
    "<div class=\"alert alert-block alert-danger\">\n",
    "    \n",
    "The following codes will generate     \n",
    "__SyntaxError: invalid syntax__ because the second quote symbol (after the letter 't', after the word 'The') will be considered as the closing quote for the first quote symbol. \n",
    "</div>"
   ]
  },
  {
   "cell_type": "code",
   "execution_count": 7,
   "metadata": {},
   "outputs": [
    {
     "ename": "SyntaxError",
     "evalue": "invalid syntax (<ipython-input-7-1a27a8aa3045>, line 1)",
     "output_type": "error",
     "traceback": [
      "\u001b[1;36m  File \u001b[1;32m\"<ipython-input-7-1a27a8aa3045>\"\u001b[1;36m, line \u001b[1;32m1\u001b[0m\n\u001b[1;33m    print('It's my life')\u001b[0m\n\u001b[1;37m              ^\u001b[0m\n\u001b[1;31mSyntaxError\u001b[0m\u001b[1;31m:\u001b[0m invalid syntax\n"
     ]
    }
   ],
   "source": [
    "print('It's my life')"
   ]
  },
  {
   "cell_type": "code",
   "execution_count": 8,
   "metadata": {},
   "outputs": [
    {
     "ename": "SyntaxError",
     "evalue": "invalid syntax (<ipython-input-8-bab003f9ebc8>, line 1)",
     "output_type": "error",
     "traceback": [
      "\u001b[1;36m  File \u001b[1;32m\"<ipython-input-8-bab003f9ebc8>\"\u001b[1;36m, line \u001b[1;32m1\u001b[0m\n\u001b[1;33m    print(\"The \"Honey Cake\" is delicious\")\u001b[0m\n\u001b[1;37m                ^\u001b[0m\n\u001b[1;31mSyntaxError\u001b[0m\u001b[1;31m:\u001b[0m invalid syntax\n"
     ]
    }
   ],
   "source": [
    "print(\"The \"Honey Cake\" is delicious\") "
   ]
  },
  {
   "cell_type": "markdown",
   "metadata": {},
   "source": [
    "<div class=\"alert alert-block alert-warning\">\n",
    "\n",
    "#### Using an escape  '\\\\' sequence to type a sentance in multiple lines which will be considered as a single line\n",
    "</div>"
   ]
  },
  {
   "cell_type": "code",
   "execution_count": 9,
   "metadata": {},
   "outputs": [
    {
     "name": "stdout",
     "output_type": "stream",
     "text": [
      "a is an alphabet\n"
     ]
    }
   ],
   "source": [
    "print('a \\\n",
    "is an \\\n",
    "alphabet')"
   ]
  },
  {
   "cell_type": "markdown",
   "metadata": {},
   "source": [
    "<div class=\"alert alert-block alert-warning\">\n",
    "\n",
    "#### Using an escape sequence '\\n' to go the next line\n",
    "</div>"
   ]
  },
  {
   "cell_type": "code",
   "execution_count": 10,
   "metadata": {},
   "outputs": [
    {
     "name": "stdout",
     "output_type": "stream",
     "text": [
      "First Line\n",
      "Second Line\n",
      "Third Line\n"
     ]
    }
   ],
   "source": [
    "print('First Line\\nSecond Line\\nThird Line')"
   ]
  },
  {
   "cell_type": "code",
   "execution_count": 11,
   "metadata": {},
   "outputs": [
    {
     "name": "stdout",
     "output_type": "stream",
     "text": [
      "hello\n",
      "Hello\n"
     ]
    }
   ],
   "source": [
    "print('hello')\n",
    "print(\"Hello\")"
   ]
  },
  {
   "cell_type": "code",
   "execution_count": 12,
   "metadata": {},
   "outputs": [
    {
     "name": "stdout",
     "output_type": "stream",
     "text": [
      "10\n",
      "20\n"
     ]
    }
   ],
   "source": [
    "a=10\n",
    "b=20\n",
    "print(a)\n",
    "print(b)"
   ]
  },
  {
   "cell_type": "code",
   "execution_count": 13,
   "metadata": {},
   "outputs": [
    {
     "name": "stdout",
     "output_type": "stream",
     "text": [
      "20\n",
      "10\n"
     ]
    }
   ],
   "source": [
    "a,b=b,a\n",
    "print(a)\n",
    "print(b)"
   ]
  },
  {
   "cell_type": "code",
   "execution_count": 14,
   "metadata": {},
   "outputs": [
    {
     "name": "stdout",
     "output_type": "stream",
     "text": [
      "30\n"
     ]
    }
   ],
   "source": [
    "sum=a+b\n",
    "print(sum)"
   ]
  },
  {
   "cell_type": "code",
   "execution_count": 15,
   "metadata": {},
   "outputs": [],
   "source": [
    "a = 20\n",
    "b = 10\n",
    "c = 15\n",
    "d = 5"
   ]
  },
  {
   "cell_type": "code",
   "execution_count": 16,
   "metadata": {
    "scrolled": false
   },
   "outputs": [
    {
     "name": "stdout",
     "output_type": "stream",
     "text": [
      "Value of (a + b) * c / d is  90.0\n",
      "Value of ((a + b) * c) / d is  90.0\n",
      "Value of (a + b) * (c / d) is  90.0\n",
      "Value of a + (b * c) / d is  50.0\n"
     ]
    }
   ],
   "source": [
    "e = (a + b) * c / d       #( 30 * 15 ) / 5 = 90\n",
    "print (\"Value of (a + b) * c / d is \",  e)\n",
    "\n",
    "e = ((a + b) * c) / d     # (30 * 15 ) / 5=90\n",
    "print (\"Value of ((a + b) * c) / d is \",  e)\n",
    "\n",
    "e = (a + b) * (c / d);    # ________=__\n",
    "print(\"Value of (a + b) * (c / d) is \",  e)\n",
    "\n",
    "e = a + (b * c) / d;      #  ______=__\n",
    "print (\"Value of a + (b * c) / d is \",  e)\n"
   ]
  },
  {
   "cell_type": "markdown",
   "metadata": {},
   "source": [
    "# 6. Decision Making <a id='decision_making'></a>\n",
    "if, if else, if-elif-else, Nested if statements are used whenever we want to make a decision based on some conditions. The syntax for decision making is, the line ends with : either after else or after the condition is mentioned in the if block. The segment of code which needs to be executed as part of the decision is written with indentation."
   ]
  },
  {
   "cell_type": "markdown",
   "metadata": {},
   "source": [
    "# if statements\n",
    "If the condition given in if block are true then, first only the code written with indentation are executed and then the remaining code will execute. If the condition is false then the code written in if block is skipped and remaining code will be executed.\n",
    "\n",
    "<div class=\"alert alert-block alert-info\">\n",
    "    \n",
    "__Syntax:__\n",
    "\n",
    "    if condition :\n",
    "          statement 1\n",
    "          statement 2  \n",
    "</div>"
   ]
  },
  {
   "cell_type": "code",
   "execution_count": 17,
   "metadata": {},
   "outputs": [
    {
     "name": "stdout",
     "output_type": "stream",
     "text": [
      "Inside if block\n",
      "a is bigger than 10\n",
      "After if statement\n"
     ]
    }
   ],
   "source": [
    "a=20\n",
    "if(a>10):\n",
    "    print('Inside if block')\n",
    "    print('a is bigger than 10')\n",
    "print('After if statement')"
   ]
  },
  {
   "cell_type": "markdown",
   "metadata": {},
   "source": [
    "## if else statements\n",
    "if...else statements are used when we want to make any one decision  out of two based on some condition. If the condition is true the code in the if block will be executed. If the condition is false then else block will be executed. Once, any one of the code block (either if or else) is executed, the remaining code wil be executed.\n",
    "\n",
    "<div class=\"alert alert-block alert-info\">\n",
    "    \n",
    "__Syntax:__\n",
    "    \n",
    "    if condition :\n",
    "          statement 1\n",
    "          statement 2\n",
    "    else :\n",
    "          statement 3\n",
    "          statement 4\n",
    "    \n",
    "</div>"
   ]
  },
  {
   "cell_type": "code",
   "execution_count": 18,
   "metadata": {},
   "outputs": [
    {
     "name": "stdout",
     "output_type": "stream",
     "text": [
      "Inside if block\n",
      "b is greater than a\n",
      "Outside if else block\n"
     ]
    }
   ],
   "source": [
    "a = 20\n",
    "b = 33\n",
    "if b > a:\n",
    "    print('Inside if block')\n",
    "    print(\"b is greater than a\")\n",
    "else:\n",
    "    print('Inside else block')\n",
    "    print(\"b is not greater than a\")\n",
    "\n",
    "print('Outside if else block')"
   ]
  },
  {
   "cell_type": "code",
   "execution_count": 19,
   "metadata": {},
   "outputs": [
    {
     "name": "stdout",
     "output_type": "stream",
     "text": [
      "Inside else block\n",
      "a is not greater than b\n",
      "Outside if else block\n"
     ]
    }
   ],
   "source": [
    "a = 20\n",
    "b = 33\n",
    "if a > b :\n",
    "    print('Inside if block')\n",
    "    print(\"b is greater than a\")\n",
    "else:\n",
    "    print('Inside else block')\n",
    "    print(\"a is not greater than b\")\n",
    "\n",
    "print('Outside if else block')"
   ]
  },
  {
   "cell_type": "markdown",
   "metadata": {},
   "source": [
    "# if elif else statements\n",
    "if else statements are used when we need to check two conditions but if there are multiple conditions which needs to be checked then we use if elif statements.\n",
    "Here, else block is optional. else block will be executed if none of the if conditions are true.\n",
    "\n",
    "<div class=\"alert alert-block alert-info\">\n",
    "    \n",
    "__Syntax:__\n",
    "    \n",
    "    if condition 1 :\n",
    "          statement 1\n",
    "          statement 2\n",
    "          \n",
    "    elif condition 2 :\n",
    "          statement 3\n",
    "          statement 4\n",
    "          \n",
    "    elif condition 3 :\n",
    "          statement 5\n",
    "          statement 6\n",
    "          ....\n",
    "          ....\n",
    "          ....\n",
    "    else :\n",
    "          statement 3\n",
    "          statement 4\n",
    "    \n",
    "</div>"
   ]
  },
  {
   "cell_type": "code",
   "execution_count": 20,
   "metadata": {},
   "outputs": [
    {
     "name": "stdout",
     "output_type": "stream",
     "text": [
      "Second class\n",
      "Outside if elif statements\n"
     ]
    }
   ],
   "source": [
    "percentage=55\n",
    "if percentage > 70:\n",
    "    print(\"Distinction\")\n",
    "elif ( percentage > 60 and percentage < 70 ) :\n",
    "    print(\"First class\")\n",
    "elif ( percentage > 50 and percentage < 60 ) :\n",
    "    print(\"Second class\")\n",
    "elif ( percentage > 35 and percentage < 50 ) :\n",
    "    print(\"Pass class\")\n",
    "else:\n",
    "    print(\"Fail\")\n",
    "\n",
    "print('Outside if elif statements')"
   ]
  },
  {
   "cell_type": "code",
   "execution_count": 21,
   "metadata": {},
   "outputs": [
    {
     "name": "stdout",
     "output_type": "stream",
     "text": [
      "a and b are equal\n"
     ]
    }
   ],
   "source": [
    "a = 200\n",
    "b = 200\n",
    "if b > a:\n",
    "    print(\"b is greater than a\")\n",
    "elif a == b:\n",
    "    print(\"a and b are equal\")\n",
    "else:\n",
    "    print(\"a is greater than b\")"
   ]
  },
  {
   "cell_type": "markdown",
   "metadata": {},
   "source": [
    "## nested if \n",
    "Python supports nested structures. Which means we can have if statement inside another if statement.\n",
    "\n",
    "<div class=\"alert alert-block alert-info\">\n",
    "    \n",
    "__Syntax :__\n",
    "\n",
    "    if condition 1 :\n",
    "        statement 1\n",
    "        statement 2\n",
    "        \n",
    "        if condition 2 :\n",
    "            statement 3\n",
    "        else:\n",
    "            statement 4\n",
    "     else:\n",
    "         statement 5\n",
    "    \n",
    "</div>"
   ]
  },
  {
   "cell_type": "code",
   "execution_count": 22,
   "metadata": {},
   "outputs": [
    {
     "name": "stdout",
     "output_type": "stream",
     "text": [
      "inside outer if statement\n",
      "Above ten,\n",
      "and also above 20!\n",
      "Inside if block of inner if statement\n",
      "outside if statement\n"
     ]
    }
   ],
   "source": [
    "x =40\n",
    "if x > 10:\n",
    "    print('inside outer if statement')\n",
    "    print(\"Above ten,\")\n",
    "    if x > 20:\n",
    "        print(\"and also above 20!\")\n",
    "        print('Inside if block of inner if statement')\n",
    "    else:\n",
    "        print(\"but not above 20.\")\n",
    "        print('Inside else block of inner if statement')\n",
    "else:\n",
    "    print('a is less than 10')\n",
    "    \n",
    "print('outside if statement')  "
   ]
  },
  {
   "cell_type": "code",
   "execution_count": 23,
   "metadata": {},
   "outputs": [
    {
     "name": "stdout",
     "output_type": "stream",
     "text": [
      "a is less than 10\n",
      "outside if statement\n"
     ]
    }
   ],
   "source": [
    "x =5\n",
    "if x > 10:\n",
    "    print('inside outer if statement')\n",
    "    print(\"Above ten,\")\n",
    "    if x > 20:\n",
    "        print(\"and also above 20!\")\n",
    "        print('Inside if block of inner if statement')\n",
    "    else:\n",
    "        print(\"but not above 20.\")\n",
    "        print('Inside else block of inner if statement')\n",
    "else:\n",
    "    print('a is less than 10')\n",
    "    \n",
    "print('outside if statement')   "
   ]
  },
  {
   "cell_type": "markdown",
   "metadata": {},
   "source": [
    "# 7. Loops in python<a id='loops_python'></a> \n",
    "If there is any need to execute a set of instructions several times as long as certain condition is true, we use looping structures such as for loops, while loops, and nested loops. "
   ]
  },
  {
   "cell_type": "markdown",
   "metadata": {},
   "source": [
    "## for loops\n",
    "It has the ability to iterate over the items of any sequence, such as a list or a string.\n",
    "\n",
    "<div class=\"alert alert-block alert-info\">\n",
    "    \n",
    "    for iterating_var in sequence:\n",
    "       statements(s)\n",
    "</div>"
   ]
  },
  {
   "cell_type": "code",
   "execution_count": 24,
   "metadata": {},
   "outputs": [
    {
     "name": "stdout",
     "output_type": "stream",
     "text": [
      "H\n",
      "e\n",
      "l\n",
      "l\n",
      "o\n",
      " \n",
      "W\n",
      "o\n",
      "r\n",
      "l\n",
      "d\n"
     ]
    }
   ],
   "source": [
    "for i in 'Hello World':\n",
    "    print(i)"
   ]
  },
  {
   "cell_type": "code",
   "execution_count": 25,
   "metadata": {},
   "outputs": [
    {
     "name": "stdout",
     "output_type": "stream",
     "text": [
      "10\n",
      "20\n",
      "30\n",
      "40\n",
      "50\n"
     ]
    }
   ],
   "source": [
    "for i in (10,20,30,40,50):\n",
    "    print(i)"
   ]
  },
  {
   "cell_type": "code",
   "execution_count": 26,
   "metadata": {
    "scrolled": false
   },
   "outputs": [
    {
     "name": "stdout",
     "output_type": "stream",
     "text": [
      "0\n",
      "1\n",
      "2\n",
      "3\n",
      "4\n",
      "5\n",
      "6\n",
      "7\n",
      "8\n",
      "9\n"
     ]
    }
   ],
   "source": [
    "for n in range(0,10):\n",
    "    print(n)"
   ]
  },
  {
   "cell_type": "code",
   "execution_count": 27,
   "metadata": {},
   "outputs": [
    {
     "name": "stdout",
     "output_type": "stream",
     "text": [
      "C\n",
      "C++\n",
      "Java\n",
      "Python\n"
     ]
    }
   ],
   "source": [
    "language=['C','C++','Java','Python']\n",
    "\n",
    "for index in language:\n",
    "    print(index)"
   ]
  },
  {
   "cell_type": "code",
   "execution_count": 28,
   "metadata": {
    "scrolled": true
   },
   "outputs": [
    {
     "name": "stdout",
     "output_type": "stream",
     "text": [
      "C\n",
      "C++\n",
      "Java\n",
      "Python\n"
     ]
    }
   ],
   "source": [
    "language=['C','C++','Java','Python']\n",
    "\n",
    "for index in range(len(language)):\n",
    "    print(language[index])"
   ]
  },
  {
   "cell_type": "code",
   "execution_count": 29,
   "metadata": {},
   "outputs": [
    {
     "name": "stdout",
     "output_type": "stream",
     "text": [
      "red apple\n",
      "red banana\n",
      "red cherry\n",
      "big apple\n",
      "big banana\n",
      "big cherry\n",
      "tasty apple\n",
      "tasty banana\n",
      "tasty cherry\n"
     ]
    }
   ],
   "source": [
    "adj = [\"red\", \"big\", \"tasty\"]\n",
    "fruits = [\"apple\", \"banana\", \"cherry\"]\n",
    "\n",
    "for x in adj:\n",
    "    for y in fruits:\n",
    "        print(x, y)"
   ]
  },
  {
   "cell_type": "markdown",
   "metadata": {},
   "source": [
    "### while loop\n",
    "While loop is executed as long as the condition  is true.\n",
    "\n",
    "<div class=\"alert alert-block alert-info\">\n",
    "    \n",
    "__Syntax :__\n",
    "\n",
    "    while condition : \n",
    "        statement 1\n",
    "        statement 2\n",
    "        ...........\n",
    "</div>"
   ]
  },
  {
   "cell_type": "code",
   "execution_count": 30,
   "metadata": {
    "scrolled": false
   },
   "outputs": [
    {
     "name": "stdout",
     "output_type": "stream",
     "text": [
      "1\n",
      "2\n",
      "3\n",
      "4\n",
      "5\n",
      "6\n",
      "7\n",
      "8\n",
      "9\n"
     ]
    }
   ],
   "source": [
    "n=1\n",
    "while n<10:\n",
    "    print(n)\n",
    "    n=n+1"
   ]
  },
  {
   "cell_type": "markdown",
   "metadata": {},
   "source": [
    "### range( )\n",
    "range ( ) is a built-in function of Python. It is used when a user needs to perform an action for a specific number of times\n",
    "\n",
    "<div class=\"alert alert-block alert-info\">\n",
    "    \n",
    "__Syntax__\n",
    "\n",
    "    range(start, stop, step)\n",
    "Here start and step are optional. 0 will be considered as start value and 1 as the step value in case if they are not provided by the programmer.\n",
    "    \n",
    "</div>"
   ]
  },
  {
   "cell_type": "code",
   "execution_count": 31,
   "metadata": {},
   "outputs": [
    {
     "name": "stdout",
     "output_type": "stream",
     "text": [
      "0\n",
      "1\n",
      "2\n",
      "3\n",
      "4\n"
     ]
    }
   ],
   "source": [
    "numbers = range(5)\n",
    "for n in numbers:\n",
    "    print(n)"
   ]
  },
  {
   "cell_type": "code",
   "execution_count": 32,
   "metadata": {},
   "outputs": [
    {
     "name": "stdout",
     "output_type": "stream",
     "text": [
      "2\n",
      "3\n",
      "4\n"
     ]
    }
   ],
   "source": [
    "numbers = range(2,5)\n",
    "for n in numbers:\n",
    "    print(n)"
   ]
  },
  {
   "cell_type": "code",
   "execution_count": 33,
   "metadata": {},
   "outputs": [
    {
     "name": "stdout",
     "output_type": "stream",
     "text": [
      "1\n",
      "3\n"
     ]
    }
   ],
   "source": [
    "numbers = range(1,5,2)\n",
    "for n in numbers:\n",
    "    print(n)"
   ]
  },
  {
   "cell_type": "markdown",
   "metadata": {},
   "source": [
    "# 8. Control Statements<a id='control_statements'></a>\n",
    "\n",
    "### break \n",
    "__break__ is used to control the sequence of the loop. If we want to terminate a loop and skip to the next code after the loop then we use break statement.\n",
    "And if we want to continue in the loop in such case we use __continue statement__\n",
    "\n",
    "__pass statement__ are null statements which are ignored by the compilers. Usually we use pass statements as placeholder."
   ]
  },
  {
   "cell_type": "code",
   "execution_count": 34,
   "metadata": {},
   "outputs": [
    {
     "name": "stdout",
     "output_type": "stream",
     "text": [
      "apple\n"
     ]
    }
   ],
   "source": [
    "fruits = [\"apple\", \"banana\", \"cherry\"]\n",
    "for x in fruits:\n",
    "    if x == \"banana\":\n",
    "        break\n",
    "    print(x)"
   ]
  },
  {
   "cell_type": "code",
   "execution_count": 35,
   "metadata": {},
   "outputs": [
    {
     "name": "stdout",
     "output_type": "stream",
     "text": [
      "apple\n",
      "cherry\n"
     ]
    }
   ],
   "source": [
    "fruits = [\"apple\", \"banana\", \"cherry\"]\n",
    "for x in fruits:\n",
    "    if x == \"banana\":\n",
    "        continue\n",
    "    print(x)"
   ]
  },
  {
   "cell_type": "code",
   "execution_count": 36,
   "metadata": {},
   "outputs": [],
   "source": [
    "for x in [0, 1, 2]:\n",
    "    pass"
   ]
  },
  {
   "cell_type": "markdown",
   "metadata": {},
   "source": [
    "## else block in for loop "
   ]
  },
  {
   "cell_type": "code",
   "execution_count": 37,
   "metadata": {},
   "outputs": [
    {
     "name": "stdout",
     "output_type": "stream",
     "text": [
      "0\n",
      "1\n",
      "2\n",
      "3\n",
      "4\n",
      "5\n",
      "Finally finished!\n"
     ]
    }
   ],
   "source": [
    "for x in range(6):\n",
    "    print(x)\n",
    "else:\n",
    "    print(\"Finally finished!\")"
   ]
  },
  {
   "cell_type": "code",
   "execution_count": 38,
   "metadata": {},
   "outputs": [
    {
     "name": "stdout",
     "output_type": "stream",
     "text": [
      "0\n",
      "1\n",
      "2\n"
     ]
    }
   ],
   "source": [
    "#### Note: The else block will NOT be executed if the loop is stopped by a break statement.\n",
    "for x in range(6):\n",
    "    if x == 3: \n",
    "        break\n",
    "    print(x)\n",
    "else:\n",
    "    print(\"Finally finished!\")"
   ]
  },
  {
   "cell_type": "code",
   "execution_count": 39,
   "metadata": {},
   "outputs": [
    {
     "name": "stdout",
     "output_type": "stream",
     "text": [
      "55\n"
     ]
    }
   ],
   "source": [
    "x = 'print(55)'\n",
    "eval(x)"
   ]
  }
 ],
 "metadata": {
  "kernelspec": {
   "display_name": "Python 3",
   "language": "python",
   "name": "python3"
  },
  "language_info": {
   "codemirror_mode": {
    "name": "ipython",
    "version": 3
   },
   "file_extension": ".py",
   "mimetype": "text/x-python",
   "name": "python",
   "nbconvert_exporter": "python",
   "pygments_lexer": "ipython3",
   "version": "3.8.3"
  }
 },
 "nbformat": 4,
 "nbformat_minor": 4
}
