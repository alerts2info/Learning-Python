{
 "cells": [
  {
   "cell_type": "markdown",
   "metadata": {},
   "source": [
    "# Table of contents\n",
    "\n",
    "## 1. [Introduction to Python](#introduction_python)\n",
    "\n",
    "## 2. [Features of Python](#python_features)\n",
    "\n",
    "## 3. [Java vs Python](#java_vs_python)\n",
    "\n",
    "## 4. [Comments in Python](#comments_in_python)"
   ]
  },
  {
   "cell_type": "markdown",
   "metadata": {},
   "source": [
    "# 1. Introduction to Python<a id='introduction_python'></a>\n",
    "Python is one of the most popular and fastest growing programming language which is being used by many professionals such as Data Analysts, Data Scientist, Scientists, Accountants, Mathematicians, Software Engineers, Network Engineers and so on.\n",
    "Python is being used in various fields such as data analysis, machine learning, artificial intelligence, big data, Automation, development of web and mobile apps, testing, hacking and so on.\n"
   ]
  },
  {
   "cell_type": "markdown",
   "metadata": {},
   "source": [
    "# 2. Features of Python<a id='python_features'></a>\n",
    "\n",
    "__1. Easy:__ Python is easy to learn and understand\n",
    "\n",
    "__2. Expressive :__ Python was designed to be highly readable which uses English keywords frequently where as other languages use punctuation and it has fewer syntactical constructions than other languages.\n",
    "\n",
    "__3. Free and Open Source :__ Python is free and open source\n",
    "\n",
    "__4. High-Level :__ Python is a high level programming language\n",
    "\n",
    "__5. Portable :__ Python program written on one platform (Windows, Linux, Mac) can be executed on another platform without requiring to change any code.\n",
    "\n",
    "__6. Object Oriented :__ Python supports object oriented concepts\n",
    "\n",
    "__7. Extensible :__ Python modules can be written in other programming languages such as C, C++ etc.\n",
    "\n",
    "__8. Embeddable :__ Python is preferred in embedded system as it is simple and requires less coding\n",
    "\n",
    "__9. Interpreted and Interactive :__ Python programs are processed at run time by the interpreter, no need to compile the program before executing it. Python is also considered as interactive because using the python prompt we can interact with the interpreter directly to write programs.\n",
    "\n",
    "__10. Large Standard Library :__ Python has huge number of libraries\n",
    "\n",
    "__11. GUI Programming :__ Python provides libraries using which one can develop GUI applications\n",
    "\n",
    "__12. Dynamically Typed :__ User need not to worry about the data type as python will identify and set the data type. For example if you declare a=10 then a will be considered as an integer and if you declare a=10.0 then a will be considered as float. "
   ]
  },
  {
   "cell_type": "code",
   "execution_count": 1,
   "metadata": {},
   "outputs": [
    {
     "name": "stdout",
     "output_type": "stream",
     "text": [
      "<class 'int'>\n",
      "<class 'float'>\n"
     ]
    }
   ],
   "source": [
    "a=10\n",
    "print(type(a))\n",
    "a=10.0\n",
    "print(type(a))"
   ]
  },
  {
   "cell_type": "markdown",
   "metadata": {},
   "source": [
    "# 3. Java vs Python<a id='java_vs_python'></a>"
   ]
  },
  {
   "cell_type": "markdown",
   "metadata": {},
   "source": [
    "|   |   |   |\n",
    "| :- | :- | :- |\n",
    "| __Parameter__ |__Java__  | __Python__ |\n",
    "| Compilation |Java is a Compiled Language  | Python is an Interpreted Language|\n",
    "| Static or Dynamic | Java is statically typed  |Python is dynamically typed| \n",
    "| String operations |  Offers limited string related functions | It offers lots of string related functions |\n",
    "| Learning curve | Complex learning curve  | Easy to learn and use  |\n",
    "|Multiple inheritances |Multiple inheritances is partially done through interfaces  |  It offers both single and multiple inheritances|\n",
    "|Braces vs. Indentation  | It uses curly braces to define the beginning and end of each function and class definition  | Python uses indentation to separate code into code blocks |\n",
    "|Portability | Any computer or mobile device which is able to run the Java virtual machine can run a Java application| Python programs need an interpreter installed on the target machine to translate Python code. Compared to Java, Python is less portable|\n",
    "|Best use for | Java is best for Desktop GUI apps, Embed Systems, Web application services, etc| Python is excellent for scientific and numeric computing, Machine learning apps, more|\n",
    "| Database support| Java offers stable connectivity| Python offers weak connectivity|\n",
    "\n",
    "### Disadvantages of Java\n",
    "1. JIT (Just In Time) compiler makes the program comparatively slow.\n",
    "2. Java has high memory and processing requirements. Therefore, hardware cost increases.\n",
    "3. It does not provide support for low-level programming constructs like pointers.\n",
    "4. You don't have any control over garbage collection as Java does not offer functions like delete( ), free( ).\n",
    "\n",
    "### Disadvantages of Python\n",
    "1. Used in fewer platforms.\n",
    "2. Python is interpreted, so it's much slower than its counterparts.\n",
    "3. Weak in mobile computing, hence not used in app development\n",
    "4. Since Python is dynamic, more errors show up at run-time\n",
    "5. Absence of commercial support\n"
   ]
  },
  {
   "cell_type": "markdown",
   "metadata": {},
   "source": [
    "# 4. Comments in python<a id='comments_in_python'></a>\n",
    "Writing comments in a program helps in understanding the program better as it provides the documnetation. Every programming language has its own syntax for identifying what is a comment. Any line which is commented will not be executed by the compiler. \n",
    "In python, a line could be converted to a comment by using either \\# symbol or write the statements within tripple quotes(either single tripple quote ''' some text ''' or double tripple quote \"\"\" some text \"\"\").\n"
   ]
  },
  {
   "cell_type": "code",
   "execution_count": 2,
   "metadata": {},
   "outputs": [
    {
     "data": {
      "text/plain": [
       "' This would be a multiline comment\\nin Python that spans several lines and\\ndescribes your code, your day, or anything you want it to '"
      ]
     },
     "execution_count": 2,
     "metadata": {},
     "output_type": "execute_result"
    }
   ],
   "source": [
    "# This line is commented and won’t be executed\n",
    "\n",
    "''' This would be a multiline comment\n",
    "in Python that spans several lines and\n",
    "describes your code, your day, or anything you want it to '''"
   ]
  },
  {
   "cell_type": "code",
   "execution_count": 3,
   "metadata": {},
   "outputs": [
    {
     "data": {
      "text/plain": [
       "' This would be a multiline comment \\nin Python that spans several lines and\\ndescribes your code, your day, or anything you want it to '"
      ]
     },
     "execution_count": 3,
     "metadata": {},
     "output_type": "execute_result"
    }
   ],
   "source": [
    "\"\"\" This would be a multiline comment \n",
    "in Python that spans several lines and\n",
    "describes your code, your day, or anything you want it to \"\"\""
   ]
  },
  {
   "cell_type": "markdown",
   "metadata": {},
   "source": [
    "<div class=\"alert alert-block alert-info\">\n",
    "\n",
    "__Please note:__ The recommended method for commenting multiple lines is using \\# on each line. The use of tripple quote method isn’t actually a comment but defines a Text constant of the text between the tripple quote. It isn’t displayed, but exists and could potentially cause unexpected errors.\n",
    "</div>"
   ]
  },
  {
   "cell_type": "code",
   "execution_count": 4,
   "metadata": {},
   "outputs": [
    {
     "ename": "NameError",
     "evalue": "name 'a2' is not defined",
     "output_type": "error",
     "traceback": [
      "\u001b[1;31m---------------------------------------------------------------------------\u001b[0m",
      "\u001b[1;31mNameError\u001b[0m                                 Traceback (most recent call last)",
      "\u001b[1;32m<ipython-input-4-025c518dab64>\u001b[0m in \u001b[0;36m<module>\u001b[1;34m\u001b[0m\n\u001b[0;32m      1\u001b[0m \u001b[1;31m#a2=10\u001b[0m\u001b[1;33m\u001b[0m\u001b[1;33m\u001b[0m\u001b[1;33m\u001b[0m\u001b[0m\n\u001b[1;32m----> 2\u001b[1;33m \u001b[0mprint\u001b[0m\u001b[1;33m(\u001b[0m\u001b[0ma2\u001b[0m\u001b[1;33m)\u001b[0m \u001b[1;31m# This will generate NameError as the first line is commented\u001b[0m\u001b[1;33m\u001b[0m\u001b[1;33m\u001b[0m\u001b[0m\n\u001b[0m",
      "\u001b[1;31mNameError\u001b[0m: name 'a2' is not defined"
     ]
    }
   ],
   "source": [
    "#a2=10\n",
    "print(a2) # This will generate NameError as the first line is commented"
   ]
  }
 ],
 "metadata": {
  "kernelspec": {
   "display_name": "Python 3",
   "language": "python",
   "name": "python3"
  },
  "language_info": {
   "codemirror_mode": {
    "name": "ipython",
    "version": 3
   },
   "file_extension": ".py",
   "mimetype": "text/x-python",
   "name": "python",
   "nbconvert_exporter": "python",
   "pygments_lexer": "ipython3",
   "version": "3.8.3"
  }
 },
 "nbformat": 4,
 "nbformat_minor": 4
}
