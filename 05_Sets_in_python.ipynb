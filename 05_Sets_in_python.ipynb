{
 "cells": [
  {
   "cell_type": "markdown",
   "metadata": {},
   "source": [
    "## 1. [Sets](#sets)\n",
    "\n",
    "## 2. [Operating on a Set](#operating_on_sets)\n",
    "\n",
    "### 2.1 [union](#union)\n",
    "\n",
    "### 2.2 [intersection](#intersection)\n",
    "\n",
    "### 2.3 [difference](#difference)\n",
    "\n",
    "### 2.4 [symmetric_difference](#symmetric_difference)\n",
    "\n",
    "### 2.5 [isdisjoint](#isdisjoint)\n"
   ]
  },
  {
   "cell_type": "markdown",
   "metadata": {},
   "source": [
    "# 1. Sets<a id='sets'></a>\n",
    "A Set is an unordered collection data type that is iterable, mutable and has no duplicate elements. \n",
    "\n",
    "Python’s built-in set type has the following characteristics:\n",
    "1. Sets are unordered (sets cannot be indexed or sliced)\n",
    "2. Set elements are unique. (Duplicate elements are not allowed)\n",
    "3. A set itself may be modified, but the elements contained in the set must be of an immutable type.\n",
    "\n",
    "\n",
    "Python’s set class represents the mathematical notion of a set. \n",
    "The major advantage of using a set, as opposed to a list, is that it has a highly optimized method for checking whether a specific element is contained in the set. \n",
    "This is based on a data structure known as a hash table. Since sets are unordered, we cannot access items using indexes like we do in lists. A set can be defined in three ways as shown below:"
   ]
  },
  {
   "cell_type": "markdown",
   "metadata": {},
   "source": [
    "<div class=\"alert alert-block alert-info\">\n",
    "   \n",
    "<b>Syntax :</b>\n",
    "\n",
    "    myset1 = set([\"a\", \"b\", \"c\"])\n",
    "\n",
    "    myset2 = set((\"a\", \"b\", \"c”))\n",
    "\n",
    "    myset3 = {\"a\", \"b\", \"c\",\"a\"}    \n",
    "</div>"
   ]
  },
  {
   "cell_type": "code",
   "execution_count": 1,
   "metadata": {},
   "outputs": [
    {
     "name": "stdout",
     "output_type": "stream",
     "text": [
      "{'a', 'b', 'c'}\n",
      "<class 'set'>\n",
      "<class 'set'>\n",
      "<class 'set'>\n"
     ]
    }
   ],
   "source": [
    "myset1 = set([\"a\", \"b\", \"c\"])  \n",
    "myset2 = set((\"a\", \"b\", \"c\"))\n",
    "myset3 = {\"a\", \"b\", \"c\",\"a\"}\n",
    "\n",
    "print(myset1)\n",
    "print(type(myset1))\n",
    "print(type(myset2))\n",
    "print(type(myset3))\n",
    "\n",
    "del(myset1, myset2, myset3) # deleting the variables created"
   ]
  },
  {
   "cell_type": "markdown",
   "metadata": {},
   "source": [
    "An empty set is falsy in Boolean context: "
   ]
  },
  {
   "cell_type": "code",
   "execution_count": 2,
   "metadata": {},
   "outputs": [
    {
     "name": "stdout",
     "output_type": "stream",
     "text": [
      "False\n"
     ]
    }
   ],
   "source": [
    "x = set( )\n",
    "print(bool(x)) # output will be False\n",
    "\n",
    "del(x) # deleting the variables created"
   ]
  },
  {
   "cell_type": "markdown",
   "metadata": {},
   "source": [
    "The elements in a set can be objects of different types except mutable elements i.e., lists and dictionariesn cannot be elements of sets as they are mutable but tuple can be an elment in sets as they are immutable."
   ]
  },
  {
   "cell_type": "code",
   "execution_count": 3,
   "metadata": {},
   "outputs": [
    {
     "name": "stdout",
     "output_type": "stream",
     "text": [
      "{3.14159, 42, (1, 2, 3), 'hello'}\n"
     ]
    }
   ],
   "source": [
    "x = {42, 'hello', (1, 2, 3), 3.14159} # tuples are immutable\n",
    "print(x)\n",
    "del(x) # deleting the variables created"
   ]
  },
  {
   "cell_type": "markdown",
   "metadata": {},
   "source": [
    "<div class=\"alert alert-block alert-danger\"> \n",
    "<b>Error alert:</b> Elements of sets must be immutable. Hence, any mutable element such as list which is mutable cannot be an element of set. It will generate TypeError\n",
    "</div>"
   ]
  },
  {
   "cell_type": "code",
   "execution_count": 4,
   "metadata": {},
   "outputs": [
    {
     "ename": "TypeError",
     "evalue": "unhashable type: 'list'",
     "output_type": "error",
     "traceback": [
      "\u001b[1;31m---------------------------------------------------------------------------\u001b[0m",
      "\u001b[1;31mTypeError\u001b[0m                                 Traceback (most recent call last)",
      "\u001b[1;32m<ipython-input-4-fdbfcfb9ec89>\u001b[0m in \u001b[0;36m<module>\u001b[1;34m\u001b[0m\n\u001b[1;32m----> 1\u001b[1;33m \u001b[0mx\u001b[0m \u001b[1;33m=\u001b[0m \u001b[1;33m{\u001b[0m\u001b[1;36m42\u001b[0m\u001b[1;33m,\u001b[0m \u001b[1;34m'PJC'\u001b[0m\u001b[1;33m,\u001b[0m \u001b[1;33m[\u001b[0m\u001b[1;36m1\u001b[0m\u001b[1;33m,\u001b[0m \u001b[1;36m2\u001b[0m\u001b[1;33m,\u001b[0m \u001b[1;36m3\u001b[0m\u001b[1;33m]\u001b[0m\u001b[1;33m,\u001b[0m \u001b[1;36m3.14159\u001b[0m\u001b[1;33m}\u001b[0m \u001b[1;31m# ERROR UNHASHABLE TYPE ‘LIST’\u001b[0m\u001b[1;33m\u001b[0m\u001b[1;33m\u001b[0m\u001b[0m\n\u001b[0m\u001b[0;32m      2\u001b[0m \u001b[0mprint\u001b[0m\u001b[1;33m(\u001b[0m\u001b[0mx\u001b[0m\u001b[1;33m)\u001b[0m\u001b[1;33m\u001b[0m\u001b[1;33m\u001b[0m\u001b[0m\n\u001b[0;32m      3\u001b[0m \u001b[1;32mdel\u001b[0m\u001b[1;33m(\u001b[0m\u001b[0mx\u001b[0m\u001b[1;33m)\u001b[0m \u001b[1;31m# deleting the variables created\u001b[0m\u001b[1;33m\u001b[0m\u001b[1;33m\u001b[0m\u001b[0m\n",
      "\u001b[1;31mTypeError\u001b[0m: unhashable type: 'list'"
     ]
    }
   ],
   "source": [
    "x = {42, 'PJC', [1, 2, 3], 3.14159} # ERROR UNHASHABLE TYPE ‘LIST’\n",
    "print(x)\n",
    "del(x) # deleting the variables created"
   ]
  },
  {
   "cell_type": "markdown",
   "metadata": {},
   "source": [
    "## 2. Operating on a Set<a id='operating_on_sets'></a>\n",
    "\n",
    "#### Python provides a whole host of operations on set objects that generally mimic the operations that are defined for mathematical sets."
   ]
  },
  {
   "cell_type": "markdown",
   "metadata": {},
   "source": [
    "### 2.1 union<a id='union'></a>\n",
    "Given two sets, x1 and x2, the union of x1 and x2 is a set consisting of all elements in either set.\n",
    "The union of sets can be achieved in two ways."
   ]
  },
  {
   "cell_type": "markdown",
   "metadata": {},
   "source": [
    "<div class=\"alert alert-block alert-info\">\n",
    "    \n",
    "1. Using the method <b>union( )</b> <br /><br />\n",
    "\n",
    "      <b>Syntax:</b> set1.union(set2)<br /><br />\n",
    "\n",
    "2. Using the <b>|</b> operator<br /><br />\n",
    "\n",
    "      <b>Syntax:</b> set1|set2<br /><br />\n",
    "    \n",
    "</div>"
   ]
  },
  {
   "cell_type": "markdown",
   "metadata": {},
   "source": [
    "<div class=\"alert alert-block alert-warning\">\n",
    "    \n",
    "The difference between the two  approach is, the second approach is not supported when it is used with a set and tuple.\n",
    "\n",
    "</div>"
   ]
  },
  {
   "cell_type": "markdown",
   "metadata": {},
   "source": [
    "<div class=\"alert alert-block alert-danger\"> \n",
    "    \n",
    "TypeError: unsupported operand type(s) for |: 'set' and 'tuple' will be generated if we try to create union of a set and tuple using the |  operator\n",
    "    \n",
    "</div>"
   ]
  },
  {
   "cell_type": "code",
   "execution_count": 5,
   "metadata": {
    "scrolled": true
   },
   "outputs": [
    {
     "name": "stdout",
     "output_type": "stream",
     "text": [
      "set3 :  {1, 2, 3, 4, 5, 6, 7, 8, 9, 10}\n",
      "set4 :  {1, 2, 3, 4, 5, 6, 7, 8, 9, 10}\n"
     ]
    }
   ],
   "source": [
    "set1={1,2,3,4,5}\n",
    "set2={4,5,6,7,8,9,10}\n",
    "set3=set1.union(set2)\n",
    "print('set3 : ',set3)\n",
    "set4=set1|set2\n",
    "print('set4 : ',set4)\n",
    "\n",
    "del(set1, set2, set3, set4) # deleting the variables created"
   ]
  },
  {
   "cell_type": "code",
   "execution_count": 6,
   "metadata": {
    "scrolled": true
   },
   "outputs": [
    {
     "name": "stdout",
     "output_type": "stream",
     "text": [
      "union of set and tuple using the union method :  {1, 2, 3, 4, 5, 6, 7, 8, 9, 10}\n",
      "union of set and tuple using the union method :  {4, 5, 6, 7, 8, 9, 10, 20, 30, 40, 50}\n"
     ]
    },
    {
     "ename": "TypeError",
     "evalue": "unsupported operand type(s) for |: 'set' and 'tuple'",
     "output_type": "error",
     "traceback": [
      "\u001b[1;31m---------------------------------------------------------------------------\u001b[0m",
      "\u001b[1;31mTypeError\u001b[0m                                 Traceback (most recent call last)",
      "\u001b[1;32m<ipython-input-6-41d3ab35a6c0>\u001b[0m in \u001b[0;36m<module>\u001b[1;34m\u001b[0m\n\u001b[0;32m      9\u001b[0m \u001b[1;33m\u001b[0m\u001b[0m\n\u001b[0;32m     10\u001b[0m \u001b[1;33m\u001b[0m\u001b[0m\n\u001b[1;32m---> 11\u001b[1;33m \u001b[0mset5\u001b[0m\u001b[1;33m=\u001b[0m\u001b[0mset2\u001b[0m\u001b[1;33m|\u001b[0m\u001b[0mtuple1\u001b[0m\u001b[1;33m\u001b[0m\u001b[1;33m\u001b[0m\u001b[0m\n\u001b[0m\u001b[0;32m     12\u001b[0m \u001b[0mprint\u001b[0m\u001b[1;33m(\u001b[0m\u001b[1;34m'union of set and tuple using the | operator : '\u001b[0m\u001b[1;33m,\u001b[0m\u001b[0mset5\u001b[0m\u001b[1;33m)\u001b[0m\u001b[1;33m\u001b[0m\u001b[1;33m\u001b[0m\u001b[0m\n\u001b[0;32m     13\u001b[0m \u001b[1;33m\u001b[0m\u001b[0m\n",
      "\u001b[1;31mTypeError\u001b[0m: unsupported operand type(s) for |: 'set' and 'tuple'"
     ]
    }
   ],
   "source": [
    "tuple1=(1,2,3,4)\n",
    "set2={4,5,6,7,8,9,10}\n",
    "\n",
    "set3=set2.union(tuple1)\n",
    "print('union of set and tuple using the union method : ',set3)\n",
    "\n",
    "set4=set2.union((20,30,40,50))\n",
    "print('union of set and tuple using the union method : ',set4)\n",
    "\n",
    "\n",
    "set5=set2|tuple1\n",
    "print('union of set and tuple using the | operator : ',set5)\n",
    "\n",
    "del(tuple1, set2, set3, set4, set5) # deleting the variables created"
   ]
  },
  {
   "cell_type": "markdown",
   "metadata": {},
   "source": [
    "<div class=\"alert alert-block alert-info\">\n",
    "    \n",
    "While doing the union one must make sure that the first element must be a set otherwise it will gerenerate error.\n",
    "    \n",
    "</div>"
   ]
  },
  {
   "cell_type": "markdown",
   "metadata": {},
   "source": [
    "<div class=\"alert alert-block alert-danger\"> \n",
    "    \n",
    "AttributeError will be generated if we use the tuple as the first element when doing the union as the tuple object has no attribute called union.\n",
    "    \n",
    "</div>"
   ]
  },
  {
   "cell_type": "code",
   "execution_count": 7,
   "metadata": {},
   "outputs": [
    {
     "ename": "AttributeError",
     "evalue": "'tuple' object has no attribute 'union'",
     "output_type": "error",
     "traceback": [
      "\u001b[1;31m---------------------------------------------------------------------------\u001b[0m",
      "\u001b[1;31mAttributeError\u001b[0m                            Traceback (most recent call last)",
      "\u001b[1;32m<ipython-input-7-ce48e4227f8e>\u001b[0m in \u001b[0;36m<module>\u001b[1;34m\u001b[0m\n\u001b[1;32m----> 1\u001b[1;33m \u001b[0mset3\u001b[0m\u001b[1;33m=\u001b[0m\u001b[1;33m(\u001b[0m\u001b[0mtuple1\u001b[0m\u001b[1;33m)\u001b[0m\u001b[1;33m.\u001b[0m\u001b[0munion\u001b[0m\u001b[1;33m(\u001b[0m\u001b[0mset2\u001b[0m\u001b[1;33m)\u001b[0m\u001b[1;33m\u001b[0m\u001b[1;33m\u001b[0m\u001b[0m\n\u001b[0m",
      "\u001b[1;31mAttributeError\u001b[0m: 'tuple' object has no attribute 'union'"
     ]
    }
   ],
   "source": [
    "set3=(tuple1).union(set2)"
   ]
  },
  {
   "cell_type": "code",
   "execution_count": 8,
   "metadata": {},
   "outputs": [
    {
     "ename": "AttributeError",
     "evalue": "'tuple' object has no attribute 'union'",
     "output_type": "error",
     "traceback": [
      "\u001b[1;31m---------------------------------------------------------------------------\u001b[0m",
      "\u001b[1;31mAttributeError\u001b[0m                            Traceback (most recent call last)",
      "\u001b[1;32m<ipython-input-8-8ecd33923aeb>\u001b[0m in \u001b[0;36m<module>\u001b[1;34m\u001b[0m\n\u001b[1;32m----> 1\u001b[1;33m \u001b[0mset3\u001b[0m\u001b[1;33m=\u001b[0m\u001b[1;33m(\u001b[0m\u001b[1;36m10\u001b[0m\u001b[1;33m,\u001b[0m\u001b[1;36m20\u001b[0m\u001b[1;33m,\u001b[0m\u001b[1;36m30\u001b[0m\u001b[1;33m)\u001b[0m\u001b[1;33m.\u001b[0m\u001b[0munion\u001b[0m\u001b[1;33m(\u001b[0m\u001b[0mset2\u001b[0m\u001b[1;33m)\u001b[0m\u001b[1;33m\u001b[0m\u001b[1;33m\u001b[0m\u001b[0m\n\u001b[0m",
      "\u001b[1;31mAttributeError\u001b[0m: 'tuple' object has no attribute 'union'"
     ]
    }
   ],
   "source": [
    "set3=(10,20,30).union(set2)"
   ]
  },
  {
   "cell_type": "markdown",
   "metadata": {},
   "source": [
    "### 2.2 intersection<a id='intersection'></a> \n",
    "If there are two sets, then the intersection of two sets will result in aset having only the common elements which are present in both the sets.\n",
    "\n",
    "The intersection of sets can be achieved in two ways."
   ]
  },
  {
   "cell_type": "markdown",
   "metadata": {},
   "source": [
    "<div class=\"alert alert-block alert-info\">\n",
    "    \n",
    "1. Using the method <b>intersection( )</b> <br /><br />\n",
    "\n",
    "      <b>Syntax:</b> set1.intersection(set2)<br /><br />\n",
    "\n",
    "2. Using the <b>&</b> operator <br /><br />\n",
    "\n",
    "      <b>Syntax:</b> set1 & set2\n",
    "</div>"
   ]
  },
  {
   "cell_type": "code",
   "execution_count": 9,
   "metadata": {},
   "outputs": [
    {
     "name": "stdout",
     "output_type": "stream",
     "text": [
      "intersection of two sets using the intersection method :  {4, 5}\n",
      "intersection of set and tuple using the intersection method :  {1, 2, 3, 4}\n"
     ]
    }
   ],
   "source": [
    "tuple1=(1,2,3,4)\n",
    "set1={1,2,3,4,5}\n",
    "set2={4,5,6,7,8,9,10}\n",
    "\n",
    "set3=set1.intersection(set2)\n",
    "print('intersection of two sets using the intersection method : ',set3)\n",
    "\n",
    "set4=set1.intersection(tuple1)\n",
    "print('intersection of set and tuple using the intersection method : ',set4)"
   ]
  },
  {
   "cell_type": "code",
   "execution_count": 10,
   "metadata": {},
   "outputs": [
    {
     "ename": "TypeError",
     "evalue": "unsupported operand type(s) for &: 'set' and 'tuple'",
     "output_type": "error",
     "traceback": [
      "\u001b[1;31m---------------------------------------------------------------------------\u001b[0m",
      "\u001b[1;31mTypeError\u001b[0m                                 Traceback (most recent call last)",
      "\u001b[1;32m<ipython-input-10-31e214428619>\u001b[0m in \u001b[0;36m<module>\u001b[1;34m\u001b[0m\n\u001b[1;32m----> 1\u001b[1;33m \u001b[0mset5\u001b[0m\u001b[1;33m=\u001b[0m\u001b[0mset1\u001b[0m\u001b[1;33m&\u001b[0m\u001b[0mtuple1\u001b[0m\u001b[1;33m\u001b[0m\u001b[1;33m\u001b[0m\u001b[0m\n\u001b[0m\u001b[0;32m      2\u001b[0m \u001b[0mprint\u001b[0m\u001b[1;33m(\u001b[0m\u001b[1;34m'intersection of set and tuple using the & operator : '\u001b[0m\u001b[1;33m,\u001b[0m\u001b[0mset4\u001b[0m\u001b[1;33m)\u001b[0m\u001b[1;33m\u001b[0m\u001b[1;33m\u001b[0m\u001b[0m\n\u001b[0;32m      3\u001b[0m \u001b[1;33m\u001b[0m\u001b[0m\n\u001b[0;32m      4\u001b[0m \u001b[1;32mdel\u001b[0m\u001b[1;33m(\u001b[0m\u001b[0mtuple1\u001b[0m\u001b[1;33m,\u001b[0m \u001b[0mset1\u001b[0m\u001b[1;33m,\u001b[0m \u001b[0mset2\u001b[0m\u001b[1;33m,\u001b[0m \u001b[0mset3\u001b[0m\u001b[1;33m,\u001b[0m \u001b[0mset4\u001b[0m\u001b[1;33m,\u001b[0m \u001b[0mset5\u001b[0m\u001b[1;33m)\u001b[0m \u001b[1;31m# deleting the variables created\u001b[0m\u001b[1;33m\u001b[0m\u001b[1;33m\u001b[0m\u001b[0m\n",
      "\u001b[1;31mTypeError\u001b[0m: unsupported operand type(s) for &: 'set' and 'tuple'"
     ]
    }
   ],
   "source": [
    "set5=set1&tuple1\n",
    "print('intersection of set and tuple using the & operator : ',set4)\n",
    "\n",
    "del(tuple1, set1, set2, set3, set4, set5) # deleting the variables created"
   ]
  },
  {
   "cell_type": "markdown",
   "metadata": {},
   "source": [
    "### 2.3 difference<a id='difference'></a> \n",
    "Given two sets set1 and set2, the set1.difference(set2) or set1 - set2 return the set of all elements that are in set1 but not in set2"
   ]
  },
  {
   "cell_type": "markdown",
   "metadata": {},
   "source": [
    "<div class=\"alert alert-block alert-info\">\n",
    "    \n",
    "<b>Syntax 1:</b> <br /><br />\n",
    "\n",
    "    set1.difference(set2) \n",
    "\n",
    "<br /><br /><b>Syntax 2:</b> <br /><br />\n",
    "    \n",
    "    set1-set2 \n",
    "    \n",
    "</div>"
   ]
  },
  {
   "cell_type": "code",
   "execution_count": 11,
   "metadata": {},
   "outputs": [
    {
     "name": "stdout",
     "output_type": "stream",
     "text": [
      "set1.difference(set2) is  {1, 2, 3}\n",
      "set1-set2 is  {1, 2, 3}\n"
     ]
    }
   ],
   "source": [
    "set1={1,2,3,4,5}\n",
    "set2={4,5,6,7,8,9,10}\n",
    "set3=set1.difference(set2)\n",
    "print('set1.difference(set2) is ', set3)\n",
    "\n",
    "set4=set1-set2\n",
    "print('set1-set2 is ', set4)\n",
    "\n",
    "del(set1, set2, set3, set4) # deleting the variables created"
   ]
  },
  {
   "cell_type": "code",
   "execution_count": 12,
   "metadata": {},
   "outputs": [],
   "source": [
    "a = {1, 2, 3, 30, 300}\n",
    "b = {10, 20, 30, 40}\n",
    "c = {100, 200, 300, 400}"
   ]
  },
  {
   "cell_type": "code",
   "execution_count": 13,
   "metadata": {},
   "outputs": [
    {
     "name": "stdout",
     "output_type": "stream",
     "text": [
      "a.difference(b, c) is  {1, 2, 3}\n",
      "a-b-c is  {1, 2, 3}\n"
     ]
    }
   ],
   "source": [
    "result1=a.difference(b, c)\n",
    "\n",
    "print('a.difference(b, c) is ', result1)\n",
    "\n",
    "result2=a-b-c\n",
    "\n",
    "print('a-b-c is ', result2)\n",
    "\n",
    "del(a, b, c, result1, result2) # deleting the variables created"
   ]
  },
  {
   "cell_type": "markdown",
   "metadata": {},
   "source": [
    "<div class=\"alert alert-block alert-info\">\n",
    "    \n",
    "When multiple sets are specified, the operation is performed from left to right. In the example above, a - b is computed first, resulting in {1, 2, 3, 300}. Then c is subtracted from that set, leaving {1, 2, 3}:\n",
    "    \n",
    "</div>"
   ]
  },
  {
   "cell_type": "markdown",
   "metadata": {},
   "source": [
    "### 2.4 symmetric_difference<a id='symmetric_difference'></a> \n",
    "\n",
    "Given two sets, set1 and set2, the symmetric_difference is defined as set1.symmetric_difference(set2) or set1 ^ set2 return the set of all elements in either x1 or x2, but not both:  "
   ]
  },
  {
   "cell_type": "markdown",
   "metadata": {},
   "source": [
    "<div class=\"alert alert-block alert-info\">\n",
    "\n",
    "<b>Syntax 1:</b> <br /><br />\n",
    "    \n",
    "    set1.symmetric_difference(set2) \n",
    "    \n",
    "<br /><br /><b>Syntax 2:</b>  <br /><br />\n",
    "    \n",
    "    set1 ^ set2\n",
    "    \n",
    "</div>  "
   ]
  },
  {
   "cell_type": "code",
   "execution_count": 14,
   "metadata": {},
   "outputs": [
    {
     "name": "stdout",
     "output_type": "stream",
     "text": [
      "a ^ b is  {1, 50, 5, 10}\n",
      "result1 ^ c is  {10, 100, 5}\n",
      "a ^ b ^ c is  {10, 100, 5}\n"
     ]
    }
   ],
   "source": [
    "a = {1, 2, 3, 4, 5}\n",
    "b = {10, 2, 3, 4, 50}\n",
    "c = {1, 50, 100}\n",
    "\n",
    "result1=a^b \n",
    "print('a ^ b is ',result1)\n",
    "\n",
    "result2= result1 ^ c \n",
    "print('result1 ^ c is ', result2)\n",
    "\n",
    "result3=a ^ b ^ c\n",
    "print('a ^ b ^ c is ', result3)\n",
    "\n",
    "del(a, b, c, result1, result2, result3) # deleting the variables created"
   ]
  },
  {
   "cell_type": "markdown",
   "metadata": {},
   "source": [
    "<div class=\"alert alert-block alert-danger\">\n",
    "    \n",
    "Unlike difference we cannot pass two parameters in symmetric_difference. If we do that then a.symmetric_difference(b, c) will generate __TypeError:__ symmetric_difference() takes exactly one argument (2 given)\n",
    "    \n",
    "</div>"
   ]
  },
  {
   "cell_type": "code",
   "execution_count": 15,
   "metadata": {},
   "outputs": [
    {
     "ename": "TypeError",
     "evalue": "symmetric_difference() takes exactly one argument (2 given)",
     "output_type": "error",
     "traceback": [
      "\u001b[1;31m---------------------------------------------------------------------------\u001b[0m",
      "\u001b[1;31mTypeError\u001b[0m                                 Traceback (most recent call last)",
      "\u001b[1;32m<ipython-input-15-9165c0210572>\u001b[0m in \u001b[0;36m<module>\u001b[1;34m\u001b[0m\n\u001b[0;32m      3\u001b[0m \u001b[0mc\u001b[0m \u001b[1;33m=\u001b[0m \u001b[1;33m{\u001b[0m\u001b[1;36m1\u001b[0m\u001b[1;33m,\u001b[0m \u001b[1;36m50\u001b[0m\u001b[1;33m,\u001b[0m \u001b[1;36m100\u001b[0m\u001b[1;33m}\u001b[0m\u001b[1;33m\u001b[0m\u001b[1;33m\u001b[0m\u001b[0m\n\u001b[0;32m      4\u001b[0m \u001b[1;33m\u001b[0m\u001b[0m\n\u001b[1;32m----> 5\u001b[1;33m \u001b[0mresult1\u001b[0m\u001b[1;33m=\u001b[0m\u001b[0ma\u001b[0m\u001b[1;33m.\u001b[0m\u001b[0msymmetric_difference\u001b[0m\u001b[1;33m(\u001b[0m\u001b[0mb\u001b[0m\u001b[1;33m,\u001b[0m \u001b[0mc\u001b[0m\u001b[1;33m)\u001b[0m\u001b[1;33m\u001b[0m\u001b[1;33m\u001b[0m\u001b[0m\n\u001b[0m\u001b[0;32m      6\u001b[0m \u001b[0mprint\u001b[0m\u001b[1;33m(\u001b[0m\u001b[1;34m'a.symmetric_difference(b, c) is '\u001b[0m\u001b[1;33m,\u001b[0m \u001b[0mresult1\u001b[0m\u001b[1;33m)\u001b[0m\u001b[1;33m\u001b[0m\u001b[1;33m\u001b[0m\u001b[0m\n\u001b[0;32m      7\u001b[0m \u001b[1;33m\u001b[0m\u001b[0m\n",
      "\u001b[1;31mTypeError\u001b[0m: symmetric_difference() takes exactly one argument (2 given)"
     ]
    }
   ],
   "source": [
    "a = {1, 2, 3, 4, 5}\n",
    "b = {10, 2, 3, 4, 50}\n",
    "c = {1, 50, 100}\n",
    "\n",
    "result1=a.symmetric_difference(b, c) \n",
    "print('a.symmetric_difference(b, c) is ', result1)\n",
    "\n",
    "del(result1) # deleting the variables created"
   ]
  },
  {
   "cell_type": "code",
   "execution_count": 16,
   "metadata": {},
   "outputs": [
    {
     "name": "stdout",
     "output_type": "stream",
     "text": [
      "a.symmetric_difference(b) is  {1, 50, 5, 10}\n",
      "result1.symmetric_difference(c is  {10, 100, 5}\n"
     ]
    }
   ],
   "source": [
    "a = {1, 2, 3, 4, 5}\n",
    "b = {10, 2, 3, 4, 50}\n",
    "\n",
    "result1=a.symmetric_difference(b)\n",
    "print('a.symmetric_difference(b) is ',result1)\n",
    "\n",
    "c = {1, 50, 100}\n",
    "\n",
    "result2= result1.symmetric_difference(c) \n",
    "print('result1.symmetric_difference(c is ', result2)\n",
    "\n",
    "del(a, b, c, result1, result2) # deleting the variables created"
   ]
  },
  {
   "cell_type": "markdown",
   "metadata": {},
   "source": [
    "### 2.5 isdisjoints<a id='isdisjoint'></a> \n",
    "Given two sets, set1 and set2 the set1.isdisjoint(set2) returns True if set1 and set2 have no elements in common\n"
   ]
  },
  {
   "cell_type": "markdown",
   "metadata": {},
   "source": [
    "<div class=\"alert alert-block alert-info\">\n",
    "\n",
    "<b>Syntax:</b> <br /><br />\n",
    "    \n",
    "    set1.isdisjoint(set2) \n",
    "    \n",
    "</div>    \n"
   ]
  },
  {
   "cell_type": "code",
   "execution_count": 17,
   "metadata": {},
   "outputs": [
    {
     "name": "stdout",
     "output_type": "stream",
     "text": [
      "set1.isdisjoint(set2) is  True\n",
      "set1.isdisjoint(set3) is  False\n"
     ]
    }
   ],
   "source": [
    "set1={1,2,3,4}\n",
    "set2={5,6,7,8}\n",
    "set3={3,4,5,6}\n",
    "\n",
    "print('set1.isdisjoint(set2) is ', set1.isdisjoint(set2))\n",
    "\n",
    "print('set1.isdisjoint(set3) is ', set1.isdisjoint(set3))"
   ]
  }
 ],
 "metadata": {
  "kernelspec": {
   "display_name": "Python 3",
   "language": "python",
   "name": "python3"
  },
  "language_info": {
   "codemirror_mode": {
    "name": "ipython",
    "version": 3
   },
   "file_extension": ".py",
   "mimetype": "text/x-python",
   "name": "python",
   "nbconvert_exporter": "python",
   "pygments_lexer": "ipython3",
   "version": "3.8.3"
  }
 },
 "nbformat": 4,
 "nbformat_minor": 4
}
